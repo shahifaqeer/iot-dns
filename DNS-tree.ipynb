{
 "cells": [
  {
   "cell_type": "code",
   "execution_count": 2,
   "metadata": {
    "collapsed": false
   },
   "outputs": [],
   "source": [
    "from __future__ import division\n",
    "import numpy as np\n",
    "import os, sys\n",
    "from ete2 import Tree\n",
    "import matplotlib\n",
    "#matplotlib.use('Agg')\n",
    "%matplotlib nbagg\n",
    "import matplotlib.pyplot as plt\n",
    "import pandas as pd\n",
    "from collections import defaultdict\n",
    "from src.DnTree import DnTree"
   ]
  },
  {
   "cell_type": "code",
   "execution_count": 2,
   "metadata": {
    "collapsed": false
   },
   "outputs": [
    {
     "name": "stdout",
     "output_type": "stream",
     "text": [
      "com\n",
      " google\n",
      "  www\n",
      "edu\n",
      " princeton\n",
      "\n"
     ]
    }
   ],
   "source": [
    "s = ['com', 'edu', 'google.com', 'www.google.com', 'princeton.edu']\n",
    "t = DnTree(s)\n",
    "print t"
   ]
  },
  {
   "cell_type": "code",
   "execution_count": 3,
   "metadata": {
    "collapsed": false
   },
   "outputs": [
    {
     "name": "stdout",
     "output_type": "stream",
     "text": [
      "com\n",
      " google\n",
      "  www\n",
      "edu\n",
      " princeton\n",
      "  cs\n",
      "\n"
     ]
    }
   ],
   "source": [
    "t.add('cs.princeton.edu')\n",
    "print t"
   ]
  },
  {
   "cell_type": "code",
   "execution_count": 4,
   "metadata": {
    "collapsed": false
   },
   "outputs": [
    {
     "name": "stdout",
     "output_type": "stream",
     "text": [
      "com\n",
      " google\n",
      "  www\n",
      "edu\n",
      " princeton\n",
      "  cs\n",
      "www.example.org\n",
      "\n"
     ]
    }
   ],
   "source": [
    "t.add('www.example.org')\n",
    "print t"
   ]
  },
  {
   "cell_type": "markdown",
   "metadata": {},
   "source": [
    "# Use PIMA data"
   ]
  },
  {
   "cell_type": "code",
   "execution_count": 5,
   "metadata": {
    "collapsed": false
   },
   "outputs": [],
   "source": [
    "df = pd.read_csv(\"pima-extract.csv\", sep=\"|\").fillna('')"
   ]
  },
  {
   "cell_type": "code",
   "execution_count": 6,
   "metadata": {
    "collapsed": true
   },
   "outputs": [],
   "source": [
    "# REMOVE entries with ipv6\n",
    "df2 = df[df['ip.src']!='']"
   ]
  },
  {
   "cell_type": "code",
   "execution_count": 7,
   "metadata": {
    "collapsed": false
   },
   "outputs": [
    {
     "data": {
      "text/html": [
       "<div>\n",
       "<table border=\"1\" class=\"dataframe\">\n",
       "  <thead>\n",
       "    <tr style=\"text-align: right;\">\n",
       "      <th></th>\n",
       "      <th>frame.time_relative</th>\n",
       "      <th>eth.src</th>\n",
       "      <th>eth.dst</th>\n",
       "      <th>ip.src</th>\n",
       "      <th>ip.dst</th>\n",
       "      <th>dns.qry.name</th>\n",
       "    </tr>\n",
       "  </thead>\n",
       "  <tbody>\n",
       "    <tr>\n",
       "      <th>0</th>\n",
       "      <td>0.000000</td>\n",
       "      <td>00:1f:a0:11:b5:3a</td>\n",
       "      <td>40:a8:f0:34:48:5c</td>\n",
       "      <td>24.9.76.250</td>\n",
       "      <td>69.252.212.78</td>\n",
       "      <td>android.clients.google.com</td>\n",
       "    </tr>\n",
       "    <tr>\n",
       "      <th>1</th>\n",
       "      <td>0.000001</td>\n",
       "      <td>00:1c:73:69:93:01</td>\n",
       "      <td>e0:ac:f1:39:39:53</td>\n",
       "      <td>69.241.95.82</td>\n",
       "      <td>69.31.113.189</td>\n",
       "      <td>e3645.b.akamaiedge.net</td>\n",
       "    </tr>\n",
       "    <tr>\n",
       "      <th>2</th>\n",
       "      <td>0.000005</td>\n",
       "      <td>00:1f:a0:11:b5:3a</td>\n",
       "      <td>40:a8:f0:34:19:30</td>\n",
       "      <td>24.9.76.250</td>\n",
       "      <td>69.252.212.88</td>\n",
       "      <td>android.clients.google.com</td>\n",
       "    </tr>\n",
       "    <tr>\n",
       "      <th>3</th>\n",
       "      <td>0.000009</td>\n",
       "      <td>00:1f:a0:11:b5:3a</td>\n",
       "      <td>40:a8:f0:34:1f:e0</td>\n",
       "      <td>24.9.76.250</td>\n",
       "      <td>69.252.212.84</td>\n",
       "      <td>android.clients.google.com</td>\n",
       "    </tr>\n",
       "    <tr>\n",
       "      <th>4</th>\n",
       "      <td>0.000010</td>\n",
       "      <td>00:1f:a0:11:b5:3a</td>\n",
       "      <td>40:a8:f0:33:fa:68</td>\n",
       "      <td>73.153.66.183</td>\n",
       "      <td>69.252.212.76</td>\n",
       "      <td>www.polls.newsvine.com</td>\n",
       "    </tr>\n",
       "  </tbody>\n",
       "</table>\n",
       "</div>"
      ],
      "text/plain": [
       "   frame.time_relative            eth.src            eth.dst         ip.src  \\\n",
       "0             0.000000  00:1f:a0:11:b5:3a  40:a8:f0:34:48:5c    24.9.76.250   \n",
       "1             0.000001  00:1c:73:69:93:01  e0:ac:f1:39:39:53   69.241.95.82   \n",
       "2             0.000005  00:1f:a0:11:b5:3a  40:a8:f0:34:19:30    24.9.76.250   \n",
       "3             0.000009  00:1f:a0:11:b5:3a  40:a8:f0:34:1f:e0    24.9.76.250   \n",
       "4             0.000010  00:1f:a0:11:b5:3a  40:a8:f0:33:fa:68  73.153.66.183   \n",
       "\n",
       "          ip.dst                dns.qry.name  \n",
       "0  69.252.212.78  android.clients.google.com  \n",
       "1  69.31.113.189      e3645.b.akamaiedge.net  \n",
       "2  69.252.212.88  android.clients.google.com  \n",
       "3  69.252.212.84  android.clients.google.com  \n",
       "4  69.252.212.76      www.polls.newsvine.com  "
      ]
     },
     "execution_count": 7,
     "metadata": {},
     "output_type": "execute_result"
    }
   ],
   "source": [
    "df2.head()"
   ]
  },
  {
   "cell_type": "code",
   "execution_count": 8,
   "metadata": {
    "collapsed": false
   },
   "outputs": [],
   "source": [
    "# group by srcip (home)\n",
    "df3 = df2.groupby(['ip.src', 'dns.qry.name'])['ip.dst'].count()"
   ]
  },
  {
   "cell_type": "code",
   "execution_count": 9,
   "metadata": {
    "collapsed": false
   },
   "outputs": [
    {
     "data": {
      "text/plain": [
       "['231.26.100.208.in-addr.arpa',\n",
       " 'ar.voicefive.com',\n",
       " 'bats.video.yahoo.com',\n",
       " 'bs.eyeblaster.akadns.net',\n",
       " 'comet.yahoo.com',\n",
       " 'config.edge.skype.com',\n",
       " 'csc.beap.bc.yahoo.com',\n",
       " 'dra.amazon-adsystem.com',\n",
       " 'e2847.dspb.akamaiedge.net',\n",
       " 'geo-cache-ds.internal.query.g03.yahoodns.net',\n",
       " 'geo-um.btrll.com',\n",
       " 'gwa.lphbs.com',\n",
       " 'images-na.ssl-images-amazon.com',\n",
       " 'ip231.208-100-26.static.steadfastdns.net',\n",
       " 'jupiter-starrnetworks.ddns.net',\n",
       " 'leadback.advertising.com',\n",
       " 'm.complerahcp.com',\n",
       " 'ocsp.entrust.net',\n",
       " 'ocsp.godaddy.com.akadns.net',\n",
       " 'pclick.yahoo.com',\n",
       " 's3-1.amazonaws.com',\n",
       " 'sa.scorecardresearch.com',\n",
       " 'stags.bluekai.com',\n",
       " 'tps10247.doubleverify.com',\n",
       " 'tps604.doubleverify.com',\n",
       " 'video-api.yql.yahoo.com',\n",
       " 'www.complera.com',\n",
       " 'www.gileadadvancingaccess.com',\n",
       " 'www3.l.google.com']"
      ]
     },
     "execution_count": 9,
     "metadata": {},
     "output_type": "execute_result"
    }
   ],
   "source": [
    "dom_list = list( df3.ix['107.0.143.131'].reset_index()['dns.qry.name'] )\n",
    "dom_list"
   ]
  },
  {
   "cell_type": "code",
   "execution_count": 10,
   "metadata": {
    "collapsed": false
   },
   "outputs": [
    {
     "name": "stdout",
     "output_type": "stream",
     "text": [
      "231.26.100.208.in-addr.arpa\n",
      "ar.voicefive.com\n",
      "bats.video.yahoo.com\n",
      "bs.eyeblaster.akadns.net\n",
      "comet.yahoo.com\n",
      "config.edge.skype.com\n",
      "csc.beap.bc.yahoo.com\n",
      "dra.amazon-adsystem.com\n",
      "e2847.dspb.akamaiedge.net\n",
      "geo-cache-ds.internal.query.g03.yahoodns.net\n",
      "geo-um.btrll.com\n",
      "gwa.lphbs.com\n",
      "images-na.ssl-images-amazon.com\n",
      "ip231.208-100-26.static.steadfastdns.net\n",
      "jupiter-starrnetworks.ddns.net\n",
      "leadback.advertising.com\n",
      "m.complerahcp.com\n",
      "ocsp.entrust.net\n",
      "ocsp.godaddy.com.akadns.net\n",
      "pclick.yahoo.com\n",
      "s3-1.amazonaws.com\n",
      "sa.scorecardresearch.com\n",
      "stags.bluekai.com\n",
      "tps10247.doubleverify.com\n",
      "tps604.doubleverify.com\n",
      "video-api.yql.yahoo.com\n",
      "www.complera.com\n",
      "www.gileadadvancingaccess.com\n",
      "www3.l.google.com\n",
      "\n"
     ]
    }
   ],
   "source": [
    "t = DnTree(dom_list)\n",
    "print t"
   ]
  },
  {
   "cell_type": "code",
   "execution_count": 11,
   "metadata": {
    "collapsed": false
   },
   "outputs": [],
   "source": [
    "new_dom_list = []\n",
    "for d in dom_list:\n",
    "    dsplit = d.split('.')\n",
    "    for i in range(len(dsplit)):\n",
    "        new_d = '.'.join( dsplit[-i:] )\n",
    "        new_dom_list.append(new_d)\n",
    "    \n",
    "#dom_list2 = set(dom_list)"
   ]
  },
  {
   "cell_type": "code",
   "execution_count": 16,
   "metadata": {
    "collapsed": false
   },
   "outputs": [
    {
     "name": "stdout",
     "output_type": "stream",
     "text": [
      "['scorecardresearch.com', 'dra.amazon-adsystem.com', 'ddns.net', 'csc.beap.bc.yahoo.com', 'edge.skype.com', 'in-addr.arpa', 'ssl-images-amazon.com', 'geo-cache-ds.internal.query.g03.yahoodns.net', 'sa.scorecardresearch.com', 'bats.video.yahoo.com', 'ip231.208-100-26.static.steadfastdns.net', 'internal.query.g03.yahoodns.net', 'steadfastdns.net', 'amazonaws.com', 'm.complerahcp.com', 'yql.yahoo.com', 'www3.l.google.com', 'bluekai.com', 'static.steadfastdns.net', 'complerahcp.com', 'leadback.advertising.com', 'arpa', 'akamaiedge.net', 'tps604.doubleverify.com', 'bc.yahoo.com', 'stags.bluekai.com', 'ar.voicefive.com', 'video.yahoo.com', 'video-api.yql.yahoo.com', 'config.edge.skype.com', 'advertising.com', 'net', 'amazon-adsystem.com', 'comet.yahoo.com', 'complera.com', 'e2847.dspb.akamaiedge.net', 'beap.bc.yahoo.com', 'eyeblaster.akadns.net', '231.26.100.208.in-addr.arpa', 'query.g03.yahoodns.net', 'bs.eyeblaster.akadns.net', 'lphbs.com', 'www.complera.com', 'ocsp.entrust.net', 'btrll.com', 'ocsp.godaddy.com.akadns.net', 'tps10247.doubleverify.com', 'entrust.net', 'pclick.yahoo.com', 'www.gileadadvancingaccess.com', 'geo-um.btrll.com', 'jupiter-starrnetworks.ddns.net', 'yahoo.com', '208.in-addr.arpa', 'com.akadns.net', 'yahoodns.net', '100.208.in-addr.arpa', 'gileadadvancingaccess.com', 'gwa.lphbs.com', 'g03.yahoodns.net', 'google.com', 'doubleverify.com', 'skype.com', 'dspb.akamaiedge.net', 'godaddy.com.akadns.net', 'akadns.net', 'voicefive.com', 'images-na.ssl-images-amazon.com', '208-100-26.static.steadfastdns.net', 'l.google.com', '26.100.208.in-addr.arpa', 'com', 's3-1.amazonaws.com']\n"
     ]
    }
   ],
   "source": [
    "dom_list2 = []\n",
    "dom_list2.extend(dom_list)\n",
    "dom_list2.extend(new_dom_list)\n",
    "dom_list2 = list( set(dom_list2) )\n",
    "print dom_list2"
   ]
  },
  {
   "cell_type": "code",
   "execution_count": 17,
   "metadata": {
    "collapsed": false
   },
   "outputs": [
    {
     "name": "stdout",
     "output_type": "stream",
     "text": [
      "arpa\n",
      " in-addr\n",
      "  208\n",
      "   100\n",
      "    26\n",
      "     231\n",
      "net\n",
      " ddns\n",
      "  jupiter-starrnetworks\n",
      " steadfastdns\n",
      "  static\n",
      "   208-100-26\n",
      "    ip231\n",
      " akamaiedge\n",
      "  dspb\n",
      "   e2847\n",
      " entrust\n",
      "  ocsp\n",
      " yahoodns\n",
      "  g03\n",
      "   query\n",
      "    internal\n",
      "     geo-cache-ds\n",
      " akadns\n",
      "  eyeblaster\n",
      "   bs\n",
      "  com\n",
      "   godaddy\n",
      "    ocsp\n",
      "com\n",
      " scorecardresearch\n",
      "  sa\n",
      " ssl-images-amazon\n",
      "  images-na\n",
      " amazonaws\n",
      "  s3-1\n",
      " bluekai\n",
      "  stags\n",
      " complerahcp\n",
      "  m\n",
      " advertising\n",
      "  leadback\n",
      " amazon-adsystem\n",
      "  dra\n",
      " complera\n",
      "  www\n",
      " lphbs\n",
      "  gwa\n",
      " btrll\n",
      "  geo-um\n",
      " yahoo\n",
      "  yql\n",
      "   video-api\n",
      "  bc\n",
      "   beap\n",
      "    csc\n",
      "  video\n",
      "   bats\n",
      "  comet\n",
      "  pclick\n",
      " gileadadvancingaccess\n",
      "  www\n",
      " google\n",
      "  l\n",
      "   www3\n",
      " doubleverify\n",
      "  tps604\n",
      "  tps10247\n",
      " skype\n",
      "  edge\n",
      "   config\n",
      " voicefive\n",
      "  ar\n",
      "\n"
     ]
    }
   ],
   "source": [
    "t = DnTree(dom_list2)\n",
    "print t"
   ]
  },
  {
   "cell_type": "markdown",
   "metadata": {},
   "source": [
    "### Edits needed\n",
    "- automatically decide depth instead of separate code for depth entries\n",
    "- levels should contain full name (not just www but www.xyz.com)\n",
    "- ip addresses in domain name should not be broken into levels\n"
   ]
  },
  {
   "cell_type": "markdown",
   "metadata": {},
   "source": [
    "# Tree visualization"
   ]
  },
  {
   "cell_type": "code",
   "execution_count": 3,
   "metadata": {
    "collapsed": false
   },
   "outputs": [
    {
     "ename": "ImportError",
     "evalue": "No module named PyQt4.QtGui",
     "output_type": "error",
     "traceback": [
      "\u001b[0;31m---------------------------------------------------------------------------\u001b[0m",
      "\u001b[0;31mImportError\u001b[0m                               Traceback (most recent call last)",
      "\u001b[0;32m<ipython-input-3-f328e512eff4>\u001b[0m in \u001b[0;36m<module>\u001b[0;34m()\u001b[0m\n\u001b[1;32m      1\u001b[0m \u001b[0mt\u001b[0m \u001b[0;34m=\u001b[0m \u001b[0mTree\u001b[0m\u001b[0;34m(\u001b[0m\u001b[0;34m)\u001b[0m\u001b[0;34m\u001b[0m\u001b[0m\n\u001b[1;32m      2\u001b[0m \u001b[0mt\u001b[0m\u001b[0;34m.\u001b[0m\u001b[0mpopulate\u001b[0m\u001b[0;34m(\u001b[0m\u001b[0;36m10\u001b[0m\u001b[0;34m)\u001b[0m\u001b[0;34m\u001b[0m\u001b[0m\n\u001b[0;32m----> 3\u001b[0;31m \u001b[0mt\u001b[0m\u001b[0;34m.\u001b[0m\u001b[0mshow\u001b[0m\u001b[0;34m(\u001b[0m\u001b[0;34m)\u001b[0m\u001b[0;34m\u001b[0m\u001b[0m\n\u001b[0m",
      "\u001b[0;32m/usr/local/lib/python2.7/site-packages/ete2/coretype/tree.pyc\u001b[0m in \u001b[0;36mshow\u001b[0;34m(self, layout, tree_style, name)\u001b[0m\n\u001b[1;32m   1331\u001b[0m \u001b[0;34m\u001b[0m\u001b[0m\n\u001b[1;32m   1332\u001b[0m         \"\"\"\n\u001b[0;32m-> 1333\u001b[0;31m         \u001b[0;32mfrom\u001b[0m \u001b[0mete2\u001b[0m\u001b[0;34m.\u001b[0m\u001b[0mtreeview\u001b[0m \u001b[0;32mimport\u001b[0m \u001b[0mdrawer\u001b[0m\u001b[0;34m\u001b[0m\u001b[0m\n\u001b[0m\u001b[1;32m   1334\u001b[0m         drawer.show_tree(self, layout=layout,\n\u001b[1;32m   1335\u001b[0m                          tree_style=tree_style, win_name=name)\n",
      "\u001b[0;32m/usr/local/lib/python2.7/site-packages/ete2/treeview/__init__.py\u001b[0m in \u001b[0;36m<module>\u001b[0;34m()\u001b[0m\n\u001b[1;32m     39\u001b[0m \u001b[0;34m\u001b[0m\u001b[0m\n\u001b[1;32m     40\u001b[0m \u001b[0;34m\u001b[0m\u001b[0m\n\u001b[0;32m---> 41\u001b[0;31m \u001b[0;32mfrom\u001b[0m \u001b[0mmain\u001b[0m \u001b[0;32mimport\u001b[0m \u001b[0;34m*\u001b[0m\u001b[0;34m\u001b[0m\u001b[0m\n\u001b[0m\u001b[1;32m     42\u001b[0m \u001b[0;32mfrom\u001b[0m \u001b[0mfaces\u001b[0m \u001b[0;32mimport\u001b[0m \u001b[0;34m*\u001b[0m\u001b[0;34m\u001b[0m\u001b[0m\n\u001b[1;32m     43\u001b[0m \u001b[0;32mfrom\u001b[0m \u001b[0msvg_colors\u001b[0m \u001b[0;32mimport\u001b[0m \u001b[0;34m*\u001b[0m\u001b[0;34m\u001b[0m\u001b[0m\n",
      "\u001b[0;32m/usr/local/lib/python2.7/site-packages/ete2/treeview/main.py\u001b[0m in \u001b[0;36m<module>\u001b[0;34m()\u001b[0m\n\u001b[1;32m     43\u001b[0m \u001b[0;32mfrom\u001b[0m \u001b[0msys\u001b[0m \u001b[0;32mimport\u001b[0m \u001b[0mstderr\u001b[0m\u001b[0;34m\u001b[0m\u001b[0m\n\u001b[1;32m     44\u001b[0m \u001b[0;34m\u001b[0m\u001b[0m\n\u001b[0;32m---> 45\u001b[0;31m \u001b[0;32mfrom\u001b[0m \u001b[0mPyQt4\u001b[0m\u001b[0;34m.\u001b[0m\u001b[0mQtGui\u001b[0m \u001b[0;32mimport\u001b[0m \u001b[0;34m*\u001b[0m\u001b[0;34m\u001b[0m\u001b[0m\n\u001b[0m\u001b[1;32m     46\u001b[0m \u001b[0;32mfrom\u001b[0m \u001b[0mPyQt4\u001b[0m \u001b[0;32mimport\u001b[0m \u001b[0mQtCore\u001b[0m\u001b[0;34m\u001b[0m\u001b[0m\n\u001b[1;32m     47\u001b[0m \u001b[0;34m\u001b[0m\u001b[0m\n",
      "\u001b[0;31mImportError\u001b[0m: No module named PyQt4.QtGui"
     ]
    }
   ],
   "source": [
    "t = Tree()\n",
    "t.populate(10)\n",
    "t.show()"
   ]
  },
  {
   "cell_type": "code",
   "execution_count": null,
   "metadata": {
    "collapsed": true
   },
   "outputs": [],
   "source": []
  },
  {
   "cell_type": "code",
   "execution_count": null,
   "metadata": {
    "collapsed": true
   },
   "outputs": [],
   "source": []
  }
 ],
 "metadata": {
  "kernelspec": {
   "display_name": "Python 2",
   "language": "python",
   "name": "python2"
  },
  "language_info": {
   "codemirror_mode": {
    "name": "ipython",
    "version": 2
   },
   "file_extension": ".py",
   "mimetype": "text/x-python",
   "name": "python",
   "nbconvert_exporter": "python",
   "pygments_lexer": "ipython2",
   "version": "2.7.10"
  }
 },
 "nbformat": 4,
 "nbformat_minor": 0
}
