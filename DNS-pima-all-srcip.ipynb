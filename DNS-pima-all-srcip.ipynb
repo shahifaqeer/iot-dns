{
 "cells": [
  {
   "cell_type": "code",
   "execution_count": 1,
   "metadata": {
    "collapsed": true
   },
   "outputs": [],
   "source": [
    "from __future__ import division\n",
    "import numpy as np\n",
    "import os, sys\n",
    "import matplotlib\n",
    "#matplotlib.use('Agg')\n",
    "%matplotlib nbagg\n",
    "import matplotlib.pyplot as plt\n",
    "import pandas as pd\n",
    "from collections import defaultdict\n"
   ]
  },
  {
   "cell_type": "code",
   "execution_count": 2,
   "metadata": {
    "collapsed": true
   },
   "outputs": [],
   "source": [
    "DNS_lookups = {\n",
    "    'nest_therm': '.nest.com',\n",
    "    'nest_cam': '.dropcam.com',\n",
    "    'smartthings': '.smartthings.com',\n",
    "    'pixstar': '.pix-star.com',\n",
    "    'echo': 'device-metrics-us.amazon.com',\n",
    "    'sharx': 'sharxsecurity.com',\n",
    "    'august': '.august.com',\n",
    "    'hue': '.meethue.com',\n",
    "    #'apple': 'time-ios.apple.com',\n",
    "    'apple': 'gs-loc.ls-apple.com',\n",
    "    'ps': '.playstation.net',\n",
    "    'xbox': 'xboxlive.com',\n",
    "    'nintendo': 'nintendo.net',\n",
    "}\n",
    "\n",
    "DNS_strict_lookups = {\n",
    "    'nest_therm': 'devices.nest.com',\n",
    "    'nest_cam': 'nexus.dropcam.com',\n",
    "    'smartthings': 'api.smartthings.com',\n",
    "    'pixstar': 'api.pix-star.com',\n",
    "    'echo': 'device-metrics-us.amazon.com',\n",
    "    'sharx': 'sharxsecurity.com',\n",
    "    'august': 'doorbells.august.com',\n",
    "    'hue': 'bridge.meethue.com',\n",
    "    'apple': 'gs-loc.ls-apple.com',\n",
    "    'ps': 'update.playstation.net',\n",
    "    'xbox': '.xboxlive.com',\n",
    "    'nintendo': '.nintendo.net',\n",
    "}"
   ]
  },
  {
   "cell_type": "markdown",
   "metadata": {},
   "source": [
    "# SRCIP set 1 from 1 min full pcap"
   ]
  },
  {
   "cell_type": "code",
   "execution_count": 3,
   "metadata": {
    "collapsed": false
   },
   "outputs": [
    {
     "name": "stderr",
     "output_type": "stream",
     "text": [
      "/usr/local/lib/python2.7/site-packages/IPython/core/interactiveshell.py:2723: DtypeWarning: Columns (0) have mixed types. Specify dtype option on import or set low_memory=False.\n",
      "  interactivity=interactivity, compiler=compiler, result=result)\n"
     ]
    }
   ],
   "source": [
    "df = pd.read_csv(\"pima-extract.csv\", sep=\"|\").fillna('')"
   ]
  },
  {
   "cell_type": "code",
   "execution_count": 4,
   "metadata": {
    "collapsed": false
   },
   "outputs": [],
   "source": [
    "ip_list = []\n",
    "for domain in DNS_lookups.values():\n",
    "    ip_list.extend( list( df [ df['dns.qry.name'].str.contains(domain) ]['ip.src'].unique()) )"
   ]
  },
  {
   "cell_type": "code",
   "execution_count": 5,
   "metadata": {
    "collapsed": false
   },
   "outputs": [],
   "source": [
    "ip_set1 = set( ip_list )"
   ]
  },
  {
   "cell_type": "code",
   "execution_count": 6,
   "metadata": {
    "collapsed": false
   },
   "outputs": [
    {
     "data": {
      "text/plain": [
       "6448"
      ]
     },
     "execution_count": 6,
     "metadata": {},
     "output_type": "execute_result"
    }
   ],
   "source": [
    "len(ip_set1)"
   ]
  },
  {
   "cell_type": "markdown",
   "metadata": {},
   "source": [
    "# SRCIP set 2 from 30 min filtered pcap"
   ]
  },
  {
   "cell_type": "code",
   "execution_count": 7,
   "metadata": {
    "collapsed": false
   },
   "outputs": [],
   "source": [
    "df = pd.read_csv(\"pima-201606291900.csv\", sep=\",\", names=['ip.src', 'ipv6.src', 'type', 'domain']).fillna('')\n",
    "\n",
    "df['domain'] = df['domain'].str.lower()"
   ]
  },
  {
   "cell_type": "code",
   "execution_count": 8,
   "metadata": {
    "collapsed": false
   },
   "outputs": [
    {
     "data": {
      "text/html": [
       "<div>\n",
       "<table border=\"1\" class=\"dataframe\">\n",
       "  <thead>\n",
       "    <tr style=\"text-align: right;\">\n",
       "      <th></th>\n",
       "      <th>ip.src</th>\n",
       "      <th>ipv6.src</th>\n",
       "      <th>type</th>\n",
       "      <th>domain</th>\n",
       "    </tr>\n",
       "  </thead>\n",
       "  <tbody>\n",
       "    <tr>\n",
       "      <th>0.001390</th>\n",
       "      <td>69.137.179.22</td>\n",
       "      <td></td>\n",
       "      <td>0x0001</td>\n",
       "      <td>us-prof.np.community.playstation.net</td>\n",
       "    </tr>\n",
       "    <tr>\n",
       "      <th>0.006040</th>\n",
       "      <td></td>\n",
       "      <td>2601:500:8500:9e20:a915:7cb1:7eea:6f99</td>\n",
       "      <td>0x0001</td>\n",
       "      <td>device-metrics-us.amazon.com</td>\n",
       "    </tr>\n",
       "    <tr>\n",
       "      <th>0.059405</th>\n",
       "      <td>69.242.233.136</td>\n",
       "      <td></td>\n",
       "      <td>0x0001</td>\n",
       "      <td>device-metrics-us.amazon.com</td>\n",
       "    </tr>\n",
       "    <tr>\n",
       "      <th>0.061309</th>\n",
       "      <td>71.228.156.2</td>\n",
       "      <td></td>\n",
       "      <td>0x0001</td>\n",
       "      <td>userpresence.xboxlive.com</td>\n",
       "    </tr>\n",
       "    <tr>\n",
       "      <th>0.083694</th>\n",
       "      <td>107.2.19.87</td>\n",
       "      <td></td>\n",
       "      <td>0x0001</td>\n",
       "      <td>transport04-rts16-iad01.transport.home.nest.com</td>\n",
       "    </tr>\n",
       "  </tbody>\n",
       "</table>\n",
       "</div>"
      ],
      "text/plain": [
       "                  ip.src                                ipv6.src    type  \\\n",
       "0.001390   69.137.179.22                                          0x0001   \n",
       "0.006040                  2601:500:8500:9e20:a915:7cb1:7eea:6f99  0x0001   \n",
       "0.059405  69.242.233.136                                          0x0001   \n",
       "0.061309    71.228.156.2                                          0x0001   \n",
       "0.083694     107.2.19.87                                          0x0001   \n",
       "\n",
       "                                                   domain  \n",
       "0.001390             us-prof.np.community.playstation.net  \n",
       "0.006040                     device-metrics-us.amazon.com  \n",
       "0.059405                     device-metrics-us.amazon.com  \n",
       "0.061309                        userpresence.xboxlive.com  \n",
       "0.083694  transport04-rts16-iad01.transport.home.nest.com  "
      ]
     },
     "execution_count": 8,
     "metadata": {},
     "output_type": "execute_result"
    }
   ],
   "source": [
    "df.head()"
   ]
  },
  {
   "cell_type": "code",
   "execution_count": 9,
   "metadata": {
    "collapsed": false
   },
   "outputs": [
    {
     "data": {
      "text/html": [
       "<div>\n",
       "<table border=\"1\" class=\"dataframe\">\n",
       "  <thead>\n",
       "    <tr style=\"text-align: right;\">\n",
       "      <th></th>\n",
       "      <th>ip.src</th>\n",
       "      <th>ipv6.src</th>\n",
       "      <th>type</th>\n",
       "      <th>domain</th>\n",
       "    </tr>\n",
       "  </thead>\n",
       "  <tbody>\n",
       "    <tr>\n",
       "      <th>1203.079644</th>\n",
       "      <td>98.225.66.206</td>\n",
       "      <td></td>\n",
       "      <td>0x0001</td>\n",
       "      <td>www.xboxlive.com</td>\n",
       "    </tr>\n",
       "    <tr>\n",
       "      <th>1203.093698</th>\n",
       "      <td>98.225.66.206</td>\n",
       "      <td></td>\n",
       "      <td>0x0001</td>\n",
       "      <td>eplists.xboxlive.com</td>\n",
       "    </tr>\n",
       "  </tbody>\n",
       "</table>\n",
       "</div>"
      ],
      "text/plain": [
       "                    ip.src ipv6.src    type                domain\n",
       "1203.079644  98.225.66.206           0x0001      www.xboxlive.com\n",
       "1203.093698  98.225.66.206           0x0001  eplists.xboxlive.com"
      ]
     },
     "execution_count": 9,
     "metadata": {},
     "output_type": "execute_result"
    }
   ],
   "source": [
    "ip_list = ['69.244.36.23',\n",
    " '69.244.45.171',\n",
    " '69.244.8.159',\n",
    " '73.24.155.23',\n",
    " '73.24.169.163',\n",
    " '98.225.66.206']\n",
    "\n",
    "df[df['ip.src']==ip_list[5]]"
   ]
  },
  {
   "cell_type": "code",
   "execution_count": 10,
   "metadata": {
    "collapsed": false
   },
   "outputs": [],
   "source": [
    "ip_list = list(df['ip.src'].unique())"
   ]
  },
  {
   "cell_type": "code",
   "execution_count": 11,
   "metadata": {
    "collapsed": true
   },
   "outputs": [],
   "source": [
    "ip_set2 = set(ip_list)"
   ]
  },
  {
   "cell_type": "code",
   "execution_count": 12,
   "metadata": {
    "collapsed": false
   },
   "outputs": [
    {
     "data": {
      "text/plain": [
       "11736"
      ]
     },
     "execution_count": 12,
     "metadata": {},
     "output_type": "execute_result"
    }
   ],
   "source": [
    "len(ip_set2)"
   ]
  },
  {
   "cell_type": "markdown",
   "metadata": {},
   "source": [
    "# PRIORITY LIST"
   ]
  },
  {
   "cell_type": "code",
   "execution_count": 13,
   "metadata": {
    "collapsed": false
   },
   "outputs": [],
   "source": [
    "df_IP = pd.DataFrame({'ip.src': df['ip.src'].unique()}).sort_values(by='ip.src').set_index('ip.src')"
   ]
  },
  {
   "cell_type": "code",
   "execution_count": 14,
   "metadata": {
    "collapsed": false
   },
   "outputs": [],
   "source": [
    "ip_dns = defaultdict(int)\n",
    "for domain in DNS_lookups.values():\n",
    "    #ip_dns[domain] = df['dns.qry.name'].str.contains(domain)\n",
    "    temp = pd.DataFrame( { 'ip.src' : df[ df['domain'].str.contains(domain) ]['ip.src'].unique(),\n",
    "              domain: True} ).set_index('ip.src')\n",
    "    df_IP[domain]=temp\n",
    "    df_IP[domain].fillna(False, inplace=True)"
   ]
  },
  {
   "cell_type": "code",
   "execution_count": 15,
   "metadata": {
    "collapsed": false
   },
   "outputs": [
    {
     "data": {
      "text/html": [
       "<div>\n",
       "<table border=\"1\" class=\"dataframe\">\n",
       "  <thead>\n",
       "    <tr style=\"text-align: right;\">\n",
       "      <th></th>\n",
       "      <th>.meethue.com</th>\n",
       "      <th>gs-loc.ls-apple.com</th>\n",
       "      <th>device-metrics-us.amazon.com</th>\n",
       "      <th>sharxsecurity.com</th>\n",
       "      <th>nintendo.net</th>\n",
       "      <th>.dropcam.com</th>\n",
       "      <th>.august.com</th>\n",
       "      <th>.playstation.net</th>\n",
       "      <th>.smartthings.com</th>\n",
       "      <th>.pix-star.com</th>\n",
       "      <th>xboxlive.com</th>\n",
       "      <th>.nest.com</th>\n",
       "    </tr>\n",
       "    <tr>\n",
       "      <th>ip.src</th>\n",
       "      <th></th>\n",
       "      <th></th>\n",
       "      <th></th>\n",
       "      <th></th>\n",
       "      <th></th>\n",
       "      <th></th>\n",
       "      <th></th>\n",
       "      <th></th>\n",
       "      <th></th>\n",
       "      <th></th>\n",
       "      <th></th>\n",
       "      <th></th>\n",
       "    </tr>\n",
       "  </thead>\n",
       "  <tbody>\n",
       "    <tr>\n",
       "      <th></th>\n",
       "      <td>True</td>\n",
       "      <td>True</td>\n",
       "      <td>True</td>\n",
       "      <td>False</td>\n",
       "      <td>True</td>\n",
       "      <td>True</td>\n",
       "      <td>False</td>\n",
       "      <td>True</td>\n",
       "      <td>True</td>\n",
       "      <td>True</td>\n",
       "      <td>True</td>\n",
       "      <td>True</td>\n",
       "    </tr>\n",
       "    <tr>\n",
       "      <th>107.2.0.102</th>\n",
       "      <td>False</td>\n",
       "      <td>False</td>\n",
       "      <td>True</td>\n",
       "      <td>False</td>\n",
       "      <td>False</td>\n",
       "      <td>False</td>\n",
       "      <td>False</td>\n",
       "      <td>False</td>\n",
       "      <td>False</td>\n",
       "      <td>False</td>\n",
       "      <td>False</td>\n",
       "      <td>False</td>\n",
       "    </tr>\n",
       "    <tr>\n",
       "      <th>107.2.0.110</th>\n",
       "      <td>False</td>\n",
       "      <td>False</td>\n",
       "      <td>True</td>\n",
       "      <td>False</td>\n",
       "      <td>False</td>\n",
       "      <td>False</td>\n",
       "      <td>False</td>\n",
       "      <td>False</td>\n",
       "      <td>False</td>\n",
       "      <td>False</td>\n",
       "      <td>True</td>\n",
       "      <td>False</td>\n",
       "    </tr>\n",
       "    <tr>\n",
       "      <th>107.2.0.117</th>\n",
       "      <td>False</td>\n",
       "      <td>False</td>\n",
       "      <td>False</td>\n",
       "      <td>False</td>\n",
       "      <td>False</td>\n",
       "      <td>False</td>\n",
       "      <td>False</td>\n",
       "      <td>False</td>\n",
       "      <td>False</td>\n",
       "      <td>False</td>\n",
       "      <td>True</td>\n",
       "      <td>False</td>\n",
       "    </tr>\n",
       "    <tr>\n",
       "      <th>107.2.0.127</th>\n",
       "      <td>False</td>\n",
       "      <td>False</td>\n",
       "      <td>False</td>\n",
       "      <td>False</td>\n",
       "      <td>False</td>\n",
       "      <td>False</td>\n",
       "      <td>False</td>\n",
       "      <td>False</td>\n",
       "      <td>False</td>\n",
       "      <td>False</td>\n",
       "      <td>True</td>\n",
       "      <td>False</td>\n",
       "    </tr>\n",
       "  </tbody>\n",
       "</table>\n",
       "</div>"
      ],
      "text/plain": [
       "            .meethue.com gs-loc.ls-apple.com device-metrics-us.amazon.com  \\\n",
       "ip.src                                                                      \n",
       "                    True                True                         True   \n",
       "107.2.0.102        False               False                         True   \n",
       "107.2.0.110        False               False                         True   \n",
       "107.2.0.117        False               False                        False   \n",
       "107.2.0.127        False               False                        False   \n",
       "\n",
       "            sharxsecurity.com nintendo.net .dropcam.com .august.com  \\\n",
       "ip.src                                                                \n",
       "                        False         True         True       False   \n",
       "107.2.0.102             False        False        False       False   \n",
       "107.2.0.110             False        False        False       False   \n",
       "107.2.0.117             False        False        False       False   \n",
       "107.2.0.127             False        False        False       False   \n",
       "\n",
       "            .playstation.net .smartthings.com .pix-star.com xboxlive.com  \\\n",
       "ip.src                                                                     \n",
       "                        True             True          True         True   \n",
       "107.2.0.102            False            False         False        False   \n",
       "107.2.0.110            False            False         False         True   \n",
       "107.2.0.117            False            False         False         True   \n",
       "107.2.0.127            False            False         False         True   \n",
       "\n",
       "            .nest.com  \n",
       "ip.src                 \n",
       "                 True  \n",
       "107.2.0.102     False  \n",
       "107.2.0.110     False  \n",
       "107.2.0.117     False  \n",
       "107.2.0.127     False  "
      ]
     },
     "execution_count": 15,
     "metadata": {},
     "output_type": "execute_result"
    }
   ],
   "source": [
    "df_IP.head()"
   ]
  },
  {
   "cell_type": "code",
   "execution_count": 52,
   "metadata": {
    "collapsed": false
   },
   "outputs": [
    {
     "name": "stdout",
     "output_type": "stream",
     "text": [
      "['107.2.26.135', '107.2.7.171', '24.11.146.86', '24.11.147.79', '24.23.77.2', '69.136.124.166', '69.136.125.106', '69.137.181.46', '69.244.12.6', '69.244.34.131', '69.244.59.102', '73.24.154.94', '73.24.161.206', '73.24.165.99', '73.24.251.90', '73.24.253.138', '98.225.111.78', '98.225.94.23']\n"
     ]
    },
    {
     "data": {
      "text/plain": [
       ".meethue.com                     2\n",
       "gs-loc.ls-apple.com              1\n",
       "device-metrics-us.amazon.com    14\n",
       "sharxsecurity.com                0\n",
       "nintendo.net                     2\n",
       ".dropcam.com                     0\n",
       ".august.com                      0\n",
       ".playstation.net                 9\n",
       ".smartthings.com                 1\n",
       ".pix-star.com                    0\n",
       "xboxlive.com                     6\n",
       ".nest.com                        7\n",
       "dtype: int64"
      ]
     },
     "execution_count": 52,
     "metadata": {},
     "output_type": "execute_result"
    }
   ],
   "source": [
    "# PIMA TOP 18\n",
    "ip_list = []\n",
    "\n",
    "for ippcap in os.listdir(\"/Users/sgrove201/Projects/dpi-pcap/pima-top20_24hr_Aug18/processed_00000002/\"):\n",
    "    ip_list.append(ippcap.rstrip('.pcap'))\n",
    "    \n",
    "                   \n",
    "print ip_list\n",
    "df_filt = df_IP.ix[ip_list]\n",
    "\n",
    "writer = pd.ExcelWriter('PIMA_ip_vs_domain.xlsx', engine='xlsxwriter')\n",
    "df_filt.to_excel(writer, 'Sheet1')\n",
    "writer.save()\n",
    "\n",
    "df_filt.sum()"
   ]
  },
  {
   "cell_type": "code",
   "execution_count": 16,
   "metadata": {
    "collapsed": false
   },
   "outputs": [
    {
     "data": {
      "text/plain": [
       ".meethue.com                      98\n",
       "gs-loc.ls-apple.com             3486\n",
       "device-metrics-us.amazon.com    3870\n",
       "sharxsecurity.com                  0\n",
       "nintendo.net                     759\n",
       ".dropcam.com                      38\n",
       ".august.com                        7\n",
       ".playstation.net                1689\n",
       ".smartthings.com                  65\n",
       ".pix-star.com                     45\n",
       "xboxlive.com                    2489\n",
       ".nest.com                        973\n",
       "dtype: int64"
      ]
     },
     "execution_count": 16,
     "metadata": {},
     "output_type": "execute_result"
    }
   ],
   "source": [
    "df_IP.sum()"
   ]
  },
  {
   "cell_type": "code",
   "execution_count": 17,
   "metadata": {
    "collapsed": true
   },
   "outputs": [],
   "source": [
    "indx = df_IP.sum(axis=1).sort_values(ascending=False).index"
   ]
  },
  {
   "cell_type": "code",
   "execution_count": 18,
   "metadata": {
    "collapsed": true
   },
   "outputs": [],
   "source": [
    "df_IP_sorted = df_IP.reindex(indx)\n",
    "df_IP_sorted['total'] = df_IP_sorted.sum(axis=1)"
   ]
  },
  {
   "cell_type": "code",
   "execution_count": 19,
   "metadata": {
    "collapsed": false
   },
   "outputs": [],
   "source": [
    "df_IP_sorted.to_pickle(\"pima-201606291900-sorted-IoT-IPs.pkl\")"
   ]
  },
  {
   "cell_type": "code",
   "execution_count": 20,
   "metadata": {
    "collapsed": false
   },
   "outputs": [
    {
     "name": "stdout",
     "output_type": "stream",
     "text": [
      "IPs with IoTs: 11736\n",
      "IPs without IoTs: 0\n"
     ]
    }
   ],
   "source": [
    "print \"IPs with IoTs:\", len(df_IP_sorted[ df_IP_sorted.total>0 ])\n",
    "print \"IPs without IoTs:\", len(df_IP_sorted[ df_IP_sorted.total==0 ])"
   ]
  },
  {
   "cell_type": "code",
   "execution_count": 21,
   "metadata": {
    "collapsed": true
   },
   "outputs": [],
   "source": [
    "# Distribution of number of IoTs per home\n",
    "tot = df_IP_sorted[ df_IP_sorted.total>0 ]['total']"
   ]
  },
  {
   "cell_type": "code",
   "execution_count": 22,
   "metadata": {
    "collapsed": false
   },
   "outputs": [
    {
     "name": "stdout",
     "output_type": "stream",
     "text": [
      "Distribution of number of IoTs per home:  Counter({1: 10215, 2: 1337, 3: 156, 4: 16, 10: 5, 5: 4, 11: 2, 6: 1})\n"
     ]
    }
   ],
   "source": [
    "from collections import Counter\n",
    "print \"Distribution of number of IoTs per home: \", Counter(tot)"
   ]
  },
  {
   "cell_type": "code",
   "execution_count": 23,
   "metadata": {
    "collapsed": false
   },
   "outputs": [
    {
     "name": "stdout",
     "output_type": "stream",
     "text": [
      "184\n"
     ]
    },
    {
     "data": {
      "text/plain": [
       "total                           630.0\n",
       "device-metrics-us.amazon.com    130.0\n",
       "xboxlive.com                    119.0\n",
       "gs-loc.ls-apple.com             100.0\n",
       ".playstation.net                 72.0\n",
       ".nest.com                        71.0\n",
       "nintendo.net                     55.0\n",
       ".meethue.com                     37.0\n",
       ".smartthings.com                 23.0\n",
       ".dropcam.com                     12.0\n",
       ".pix-star.com                     8.0\n",
       ".august.com                       3.0\n",
       "sharxsecurity.com                 0.0\n",
       "dtype: float64"
      ]
     },
     "execution_count": 23,
     "metadata": {},
     "output_type": "execute_result"
    }
   ],
   "source": [
    "interesting = df_IP_sorted[df_IP_sorted.total > 2]\n",
    "print len(interesting)\n",
    "interesting.sum().sort_values(ascending=False)"
   ]
  },
  {
   "cell_type": "markdown",
   "metadata": {},
   "source": [
    "# UNION of ip lists in PIMA"
   ]
  },
  {
   "cell_type": "code",
   "execution_count": 24,
   "metadata": {
    "collapsed": true
   },
   "outputs": [],
   "source": [
    "ip_set = ip_set1 | ip_set2"
   ]
  },
  {
   "cell_type": "code",
   "execution_count": 25,
   "metadata": {
    "collapsed": false
   },
   "outputs": [
    {
     "data": {
      "text/plain": [
       "17577"
      ]
     },
     "execution_count": 25,
     "metadata": {},
     "output_type": "execute_result"
    }
   ],
   "source": [
    "len(ip_set)"
   ]
  },
  {
   "cell_type": "code",
   "execution_count": 26,
   "metadata": {
    "collapsed": false
   },
   "outputs": [],
   "source": [
    "with open('pima-iot-cpeip.csv', 'w') as fout:\n",
    "    for ip in ip_set:\n",
    "        fout.write(ip)\n",
    "        fout.write('\\n')"
   ]
  },
  {
   "cell_type": "code",
   "execution_count": 27,
   "metadata": {
    "collapsed": false
   },
   "outputs": [
    {
     "data": {
      "text/plain": [
       "607"
      ]
     },
     "execution_count": 27,
     "metadata": {},
     "output_type": "execute_result"
    }
   ],
   "source": [
    "len( ip_set1 & ip_set2 )"
   ]
  },
  {
   "cell_type": "markdown",
   "metadata": {
    "collapsed": true
   },
   "source": [
    "# UNION of top 100 ip lists in PIMA"
   ]
  },
  {
   "cell_type": "code",
   "execution_count": 28,
   "metadata": {
    "collapsed": true
   },
   "outputs": [],
   "source": [
    "df_temp = pd.read_pickle(\"pima-extract-sorted-IoT-IPs.pkl\")\n",
    "\n",
    "top_100_1 = list(df_temp.iloc[:100].index)"
   ]
  },
  {
   "cell_type": "code",
   "execution_count": 29,
   "metadata": {
    "collapsed": false
   },
   "outputs": [],
   "source": [
    "top_100_2 = list(df_IP_sorted.iloc[:100].index)"
   ]
  },
  {
   "cell_type": "code",
   "execution_count": 30,
   "metadata": {
    "collapsed": false
   },
   "outputs": [
    {
     "data": {
      "text/plain": [
       "{'',\n",
       " '69.241.95.82',\n",
       " '69.241.95.83',\n",
       " '69.241.95.84',\n",
       " '69.241.95.85',\n",
       " '69.241.95.86',\n",
       " '69.241.95.87'}"
      ]
     },
     "execution_count": 30,
     "metadata": {},
     "output_type": "execute_result"
    }
   ],
   "source": [
    "set(top_100_1) & set(top_100_2)"
   ]
  },
  {
   "cell_type": "code",
   "execution_count": 31,
   "metadata": {
    "collapsed": false
   },
   "outputs": [],
   "source": [
    "df1 = df_temp[df_temp['total']>0]['total'].reset_index()\n",
    "df2 = df_IP_sorted[df_IP_sorted['total']>0]['total'].reset_index()"
   ]
  },
  {
   "cell_type": "code",
   "execution_count": 32,
   "metadata": {
    "collapsed": false
   },
   "outputs": [],
   "source": [
    "# merge by taking max total\n",
    "df = df1.merge(df2, on='ip.src')\n",
    "df['total'] = df[['total_x', 'total_y']].max(axis=1)\n",
    "\n",
    "# remove NULL IP and sort\n",
    "df = df[df['ip.src']!='']\n",
    "df = df.sort_values(by='total',ascending=False).set_index('ip.src')"
   ]
  },
  {
   "cell_type": "code",
   "execution_count": 33,
   "metadata": {
    "collapsed": false
   },
   "outputs": [],
   "source": [
    "top_100_ips = list( df.iloc[:100].index )"
   ]
  },
  {
   "cell_type": "code",
   "execution_count": 34,
   "metadata": {
    "collapsed": false
   },
   "outputs": [],
   "source": [
    "#f = open('pima-top_100_IoT-IPs.csv', 'w')\n",
    "#\n",
    "#for ip in top_100_ips:\n",
    "#    f.write(ip+'\\n')\n",
    "#    print ip\n",
    "#    \n",
    "#f.close()"
   ]
  },
  {
   "cell_type": "code",
   "execution_count": 35,
   "metadata": {
    "collapsed": false
   },
   "outputs": [
    {
     "data": {
      "text/plain": [
       "['69.241.95.82',\n",
       " '69.241.95.84',\n",
       " '69.241.95.83',\n",
       " '69.241.95.85',\n",
       " '69.241.95.86',\n",
       " '69.241.95.87',\n",
       " '98.225.83.234',\n",
       " '24.23.67.116',\n",
       " '69.137.181.46',\n",
       " '69.242.228.100',\n",
       " '107.2.18.120',\n",
       " '69.244.46.39',\n",
       " '73.24.234.78',\n",
       " '73.24.165.99',\n",
       " '76.18.106.4',\n",
       " '73.24.154.165',\n",
       " '71.226.42.67',\n",
       " '107.2.8.57',\n",
       " '71.226.47.97',\n",
       " '73.24.249.230',\n",
       " '73.24.188.250',\n",
       " '69.244.41.193',\n",
       " '69.244.15.55',\n",
       " '24.23.77.2',\n",
       " '73.24.242.243',\n",
       " '96.91.74.54',\n",
       " '107.2.27.117',\n",
       " '76.18.96.253',\n",
       " '68.84.193.5',\n",
       " '69.244.35.157',\n",
       " '71.226.125.95',\n",
       " '69.244.59.102',\n",
       " '76.18.106.58',\n",
       " '73.24.254.175',\n",
       " '69.244.38.245',\n",
       " '24.11.146.155',\n",
       " '73.24.253.138',\n",
       " '76.18.106.67',\n",
       " '24.11.146.86',\n",
       " '98.225.122.116',\n",
       " '76.18.106.42',\n",
       " '76.18.106.53',\n",
       " '73.24.250.68',\n",
       " '71.228.145.4',\n",
       " '73.24.234.152',\n",
       " '69.244.34.131',\n",
       " '69.244.23.21',\n",
       " '69.244.32.163',\n",
       " '107.2.13.162',\n",
       " '69.244.8.100',\n",
       " '24.11.147.79',\n",
       " '73.24.251.90',\n",
       " '69.252.212.86',\n",
       " '98.225.68.127',\n",
       " '73.24.215.23',\n",
       " '69.136.124.166',\n",
       " '107.2.20.173',\n",
       " '73.24.214.153',\n",
       " '73.24.161.206',\n",
       " '69.136.125.106',\n",
       " '73.24.213.80',\n",
       " '73.24.154.94',\n",
       " '73.24.208.200',\n",
       " '98.225.107.163',\n",
       " '73.24.234.71',\n",
       " '98.225.111.78',\n",
       " '107.2.7.171',\n",
       " '98.225.97.14',\n",
       " '73.24.255.67',\n",
       " '98.225.116.94',\n",
       " '69.254.203.186',\n",
       " '69.244.22.137',\n",
       " '71.226.45.225',\n",
       " '24.11.148.153',\n",
       " '76.18.107.199',\n",
       " '24.11.145.184',\n",
       " '76.18.107.176',\n",
       " '107.2.23.145',\n",
       " '69.244.10.93',\n",
       " '69.244.12.6',\n",
       " '69.244.62.209',\n",
       " '69.244.14.10',\n",
       " '107.2.37.124',\n",
       " '98.225.94.23',\n",
       " '24.11.158.28',\n",
       " '107.2.39.69',\n",
       " '71.226.61.131',\n",
       " '107.2.42.86',\n",
       " '69.244.27.245',\n",
       " '76.18.106.119',\n",
       " '71.226.123.55',\n",
       " '76.18.106.117',\n",
       " '71.226.123.105',\n",
       " '24.23.65.250',\n",
       " '107.2.26.135',\n",
       " '76.18.104.222',\n",
       " '24.11.159.121',\n",
       " '24.11.158.98',\n",
       " '76.18.106.10',\n",
       " '107.2.63.155']"
      ]
     },
     "execution_count": 35,
     "metadata": {},
     "output_type": "execute_result"
    }
   ],
   "source": [
    "list( df.iloc[:100].index )"
   ]
  },
  {
   "cell_type": "code",
   "execution_count": null,
   "metadata": {
    "collapsed": true
   },
   "outputs": [],
   "source": []
  }
 ],
 "metadata": {
  "kernelspec": {
   "display_name": "Python 2",
   "language": "python",
   "name": "python2"
  },
  "language_info": {
   "codemirror_mode": {
    "name": "ipython",
    "version": 2
   },
   "file_extension": ".py",
   "mimetype": "text/x-python",
   "name": "python",
   "nbconvert_exporter": "python",
   "pygments_lexer": "ipython2",
   "version": "2.7.10"
  }
 },
 "nbformat": 4,
 "nbformat_minor": 0
}
