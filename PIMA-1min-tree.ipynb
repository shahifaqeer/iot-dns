{
 "cells": [
  {
   "cell_type": "code",
   "execution_count": 39,
   "metadata": {
    "collapsed": false
   },
   "outputs": [
    {
     "name": "stdout",
     "output_type": "stream",
     "text": [
      "Populating the interactive namespace from numpy and matplotlib\n"
     ]
    },
    {
     "name": "stderr",
     "output_type": "stream",
     "text": [
      "WARNING: pylab import has clobbered these variables: ['pylab']\n",
      "`%matplotlib` prevents importing * from pylab and numpy\n"
     ]
    }
   ],
   "source": [
    "import matplotlib.pyplot as plt\n",
    "import networkx as nx\n",
    "import numpy as np\n",
    "import requests\n",
    "import pylab\n",
    "%pylab inline\n",
    "import pandas as pd\n",
    "import re\n",
    "from collections import defaultdict\n",
    "PRINT_H = False"
   ]
  },
  {
   "cell_type": "code",
   "execution_count": 2,
   "metadata": {
    "collapsed": false
   },
   "outputs": [
    {
     "data": {
      "text/html": [
       "<div>\n",
       "<table border=\"1\" class=\"dataframe\">\n",
       "  <thead>\n",
       "    <tr style=\"text-align: right;\">\n",
       "      <th></th>\n",
       "      <th>frame.time_relative</th>\n",
       "      <th>ip.src</th>\n",
       "      <th>dns.qry.name</th>\n",
       "    </tr>\n",
       "  </thead>\n",
       "  <tbody>\n",
       "    <tr>\n",
       "      <th>0</th>\n",
       "      <td>0.000000</td>\n",
       "      <td>24.9.76.250</td>\n",
       "      <td>android.clients.google.com</td>\n",
       "    </tr>\n",
       "    <tr>\n",
       "      <th>1</th>\n",
       "      <td>0.000001</td>\n",
       "      <td>69.241.95.82</td>\n",
       "      <td>e3645.b.akamaiedge.net</td>\n",
       "    </tr>\n",
       "    <tr>\n",
       "      <th>2</th>\n",
       "      <td>0.000005</td>\n",
       "      <td>24.9.76.250</td>\n",
       "      <td>android.clients.google.com</td>\n",
       "    </tr>\n",
       "    <tr>\n",
       "      <th>3</th>\n",
       "      <td>0.000009</td>\n",
       "      <td>24.9.76.250</td>\n",
       "      <td>android.clients.google.com</td>\n",
       "    </tr>\n",
       "    <tr>\n",
       "      <th>4</th>\n",
       "      <td>0.000010</td>\n",
       "      <td>73.153.66.183</td>\n",
       "      <td>www.polls.newsvine.com</td>\n",
       "    </tr>\n",
       "  </tbody>\n",
       "</table>\n",
       "</div>"
      ],
      "text/plain": [
       "   frame.time_relative         ip.src                dns.qry.name\n",
       "0             0.000000    24.9.76.250  android.clients.google.com\n",
       "1             0.000001   69.241.95.82      e3645.b.akamaiedge.net\n",
       "2             0.000005    24.9.76.250  android.clients.google.com\n",
       "3             0.000009    24.9.76.250  android.clients.google.com\n",
       "4             0.000010  73.153.66.183      www.polls.newsvine.com"
      ]
     },
     "execution_count": 2,
     "metadata": {},
     "output_type": "execute_result"
    }
   ],
   "source": [
    "# input data\n",
    "df = pd.read_csv(\"pima-extract.csv\", sep=\"|\").fillna('')\n",
    "# REMOVE entries with ipv6\n",
    "df2 = df[df['ip.src']!=''][['frame.time_relative', 'ip.src', 'dns.qry.name']]\n",
    "df2.head()"
   ]
  },
  {
   "cell_type": "code",
   "execution_count": 3,
   "metadata": {
    "collapsed": false
   },
   "outputs": [],
   "source": [
    "# window by time function\n",
    "def window_df(df, win):\n",
    "    '''returns a list of windowed dataframes given original df and window value (in time seconds)'''\n",
    "    windowed = []\n",
    "    MAX_T = round( df.iloc[-1]['frame.time_relative'] )\n",
    "    for t in np.arange(0, MAX_T, win):\n",
    "        df_win = df [ (df['frame.time_relative'] >= t) & (df['frame.time_relative'] < (t+win)) ]\n",
    "        windowed.append(df_win)\n",
    "    return windowed"
   ]
  },
  {
   "cell_type": "code",
   "execution_count": 4,
   "metadata": {
    "collapsed": false
   },
   "outputs": [
    {
     "name": "stdout",
     "output_type": "stream",
     "text": [
      "6\n",
      "346794\n"
     ]
    }
   ],
   "source": [
    "# TEST\n",
    "list_wind = window_df( df2, 10 )\n",
    "print len(list_wind)\n",
    "print len(list_wind[5])\n",
    "#list_wind[5]"
   ]
  },
  {
   "cell_type": "code",
   "execution_count": 5,
   "metadata": {
    "collapsed": true
   },
   "outputs": [],
   "source": [
    "# split by srcip - each home is a separate tree of DNS\n",
    "# can't have common root as same node name will create a graph instead of a tree\n",
    "def dns_per_src(df):\n",
    "    '''input df[time, src, dns] output dict{ src: [dns] }'''\n",
    "    grp = df.groupby('ip.src')\n",
    "    dict_of_domains = grp['dns.qry.name'].aggregate(lambda x: list(set(x))).to_dict()\n",
    "    return dict_of_domains"
   ]
  },
  {
   "cell_type": "code",
   "execution_count": 6,
   "metadata": {
    "collapsed": false
   },
   "outputs": [
    {
     "data": {
      "text/plain": [
       "{'107.2.42.58': ['profile.ess.apple.com'],\n",
       " '24.9.76.250': ['android.clients.google.com'],\n",
       " '50.134.220.221': ['teredo.ipv6.microsoft.com'],\n",
       " '50.170.152.251': ['t.appsflyer.com'],\n",
       " '50.183.21.69': ['p04-imap.mail.me.com.akadns.net'],\n",
       " '50.183.81.160': ['lucy.corp.netopia.com'],\n",
       " '67.190.144.191': ['sync.syngenta.com'],\n",
       " '69.241.95.82': ['e3645.b.akamaiedge.net'],\n",
       " '69.241.95.86': ['dsn2.skype-dsn.akadns.net'],\n",
       " '69.244.58.56': ['tvxlgp-br-c494.lp.xcal.tv'],\n",
       " '69.252.212.70': ['_ldap._tcp.pdc._msdcs.mii.com'],\n",
       " '69.252.212.82': ['e.5.0.b.8.a.e.f.f.f.a.b.6.7.6.6.7.8.9.2.0.0.0.4.0.8.2.0.1.0.6.2.ip6.arpa'],\n",
       " '71.56.196.188': ['secure.insightexpressai.com'],\n",
       " '73.14.136.124': ['wpad.corp.intranet'],\n",
       " '73.153.66.183': ['www.polls.newsvine.com'],\n",
       " '73.24.236.171': ['go.aniview.com',\n",
       "  'lb-adselect-344315156.us-west-2.elb.amazonaws.com'],\n",
       " '73.34.159.53': ['content.tegna-media.com'],\n",
       " '73.34.180.29': ['www.telegraph.co.uk'],\n",
       " '73.34.207.26': ['_ldap._tcp.pdc._msdcs.mii.com'],\n",
       " '73.78.52.192': ['www.googletagmanager.com'],\n",
       " '73.95.130.131': ['mtalk.google.com'],\n",
       " '75.71.133.235': ['cs80.adn.edgecastcdn.net'],\n",
       " '76.96.44.198': ['198.120.96.76.in-addr.arpa']}"
      ]
     },
     "execution_count": 6,
     "metadata": {},
     "output_type": "execute_result"
    }
   ],
   "source": [
    "# TEST\n",
    "dns_per_src(df2.head(30))"
   ]
  },
  {
   "cell_type": "code",
   "execution_count": 7,
   "metadata": {
    "collapsed": true
   },
   "outputs": [],
   "source": [
    "def split_domain(domain):\n",
    "    '''input domain return split domain at find every \".\" \n",
    "    eg: cs.princeton.edu -> ['cs.princeton.edu', 'princeton.edu', 'edu']\n",
    "    then reverse it before adding it to tree'''\n",
    "    \n",
    "    node_list = [domain]\n",
    "    for m in re.finditer('\\.', domain):\n",
    "        # TODO: add a way to neglect IP addresses and single characters from splitting\n",
    "        node_list.append( domain[m.end():] )\n",
    "    \n",
    "    node_list.reverse()\n",
    "    \n",
    "    return node_list"
   ]
  },
  {
   "cell_type": "code",
   "execution_count": 8,
   "metadata": {
    "collapsed": false
   },
   "outputs": [
    {
     "data": {
      "text/plain": [
       "['edu', 'princeton.edu', 'cs.princeton.edu']"
      ]
     },
     "execution_count": 8,
     "metadata": {},
     "output_type": "execute_result"
    }
   ],
   "source": [
    "# TEST\n",
    "dom = 'cs.princeton.edu'\n",
    "split_domain(dom)"
   ]
  },
  {
   "cell_type": "code",
   "execution_count": 10,
   "metadata": {
    "collapsed": true
   },
   "outputs": [],
   "source": [
    "def add_branch(srcip, list_of_dns):\n",
    "    '''create a new tree graph for every home IP and dns list\n",
    "    return the tree G'''\n",
    "    # root is srcip\n",
    "    G = nx.Graph()\n",
    "    G.add_node(srcip)\n",
    "    \n",
    "    # domain split using str.split('.')\n",
    "    for domain in list_of_dns:\n",
    "        dom_list = split_domain(domain)\n",
    "        \n",
    "        # connect to root (srcip) node\n",
    "        if not G.has_edge(srcip, dom_list[0]):\n",
    "            G.add_edge(srcip, dom_list[0])\n",
    "            if PRINT_H: print \"\\t\", srcip, \"-->\", dom_list[0]\n",
    "        \n",
    "        # rest of the domain nodes as branch using add_path\n",
    "        G.add_path(dom_list)\n",
    "        if PRINT_H: print \"\\t\\t\", dom_list\n",
    "        \n",
    "        # add list of split domains to a branch in tree\n",
    "        #for i in range(len(dom_list)-1):\n",
    "        #    if not G.has_node(dom_list[i]):\n",
    "        #        G.add_node(dom_list[i])\n",
    "        #    if not G.has_node(dom_list[i+1]):\n",
    "        #        G.add_node(dom_list[i+1])\n",
    "        #    if not G.has_edge(dom_list[i], dom_list[i+1]):\n",
    "        #        G.add_edge(dom_list[i], dom_list[i+1])\n",
    "        #        if PRINT_H: print \"\\t\\t\", dom_list[i], \"-->\", dom_list[i+1]\n",
    "    return G"
   ]
  },
  {
   "cell_type": "code",
   "execution_count": 12,
   "metadata": {
    "collapsed": false
   },
   "outputs": [
    {
     "name": "stdout",
     "output_type": "stream",
     "text": [
      "['clients.google.com', 'wpad.corp.intranet', 'android.clients.google.com', 'netopia.com', '1.2.3.4', 'google.com', 'www.google.com', 'corp.intranet', 'corp.netopia.com', 'intranet', 'com', 'lucy.corp.netopia.com']\n",
      "[('clients.google.com', 'android.clients.google.com'), ('clients.google.com', 'google.com'), ('wpad.corp.intranet', 'corp.intranet'), ('netopia.com', 'corp.netopia.com'), ('netopia.com', 'com'), ('1.2.3.4', 'intranet'), ('1.2.3.4', 'com'), ('google.com', 'com'), ('google.com', 'www.google.com'), ('corp.intranet', 'intranet'), ('corp.netopia.com', 'lucy.corp.netopia.com')]\n"
     ]
    }
   ],
   "source": [
    "# TEST\n",
    "G = add_branch('1.2.3.4', ['wpad.corp.intranet','lucy.corp.netopia.com', 'android.clients.google.com', 'www.google.com' ])\n",
    "\n",
    "print G.nodes()\n",
    "\n",
    "print G.edges()"
   ]
  },
  {
   "cell_type": "code",
   "execution_count": 22,
   "metadata": {
    "collapsed": true
   },
   "outputs": [],
   "source": [
    "def draw_domain_tree(G, srcip=''):\n",
    "    '''input graph - plot it - unfortunately node positions are random or circular creating ugly graphs\n",
    "    takes way too long for any df with 1k entries or above\n",
    "    best to replace drawing method with ete3.Tree instead'''\n",
    "    # print graph\n",
    "    G2 = nx.Graph(nx.prim_mst_edges(G))\n",
    "    #pos=nx.spring_layout(G2)\n",
    "    #nx.set_node_attributes(G2,'pos',pos)\n",
    "    \n",
    "    plt.figure()\n",
    "    if srcip!='':\n",
    "        T = nx.bfs_tree(G2, srcip)\n",
    "        nx.draw(T, with_labels=True)\n",
    "    else:\n",
    "        nx.draw(G2, with_labels=True)\n",
    "    plt.show()\n",
    "    return"
   ]
  },
  {
   "cell_type": "code",
   "execution_count": 35,
   "metadata": {
    "collapsed": false
   },
   "outputs": [
    {
     "data": {
      "image/png": "[encoded data removed]",
      "text/plain": [
       "<matplotlib.figure.Figure at 0x114c5e510>"
      ]
     },
     "metadata": {},
     "output_type": "display_data"
    }
   ],
   "source": [
    "#TEST 1\n",
    "G = nx.Graph()\n",
    "G.add_node('A')\n",
    "G.add_node('B')\n",
    "G.add_node('C')\n",
    "G.add_node('D')\n",
    "G.add_node('E')\n",
    "G.add_node('F')\n",
    "G.add_node('G')\n",
    "G.add_node('H')\n",
    "G.add_node('I')\n",
    "G.add_node('J')\n",
    "G.add_node('K')\n",
    "G.add_node('A')\n",
    "\n",
    "G.add_edge('A', 'B')\n",
    "G.add_edge('A', 'B')\n",
    "G.add_edge('A', 'C')\n",
    "G.add_edge('A', 'D')\n",
    "G.add_edge('B', 'E')\n",
    "G.add_edge('B', 'F')\n",
    "G.add_edge('C', 'G')\n",
    "G.add_edge('D', 'H')\n",
    "G.add_edge('D', 'I')\n",
    "G.add_edge('D', 'J')\n",
    "G.add_edge('I', 'K')\n",
    "\n",
    "G.add_path(['A', 1, 2, 3])\n",
    "G.add_path([2, 4])\n",
    "G.remove_node('B')\n",
    "draw_domain_tree(G)"
   ]
  },
  {
   "cell_type": "code",
   "execution_count": 32,
   "metadata": {
    "collapsed": false
   },
   "outputs": [
    {
     "data": {
      "image/png": "[encoded data removed]",
      "text/plain": [
       "<matplotlib.figure.Figure at 0x1138e9050>"
      ]
     },
     "metadata": {},
     "output_type": "display_data"
    }
   ],
   "source": [
    "# TEST 2\n",
    "G = add_branch('1.2.3.4', ['wpad.corp.intranet','lucy.corp.netopia.com', 'android.clients.google.com',\n",
    "                           'www.google.com', 'cs.princeton.edu', 'www.princeton.edu' ])\n",
    "draw_domain_tree(G)"
   ]
  },
  {
   "cell_type": "code",
   "execution_count": 42,
   "metadata": {
    "collapsed": true
   },
   "outputs": [],
   "source": [
    "def create_domain_tree(df):\n",
    "    '''input dataframe of [time, srcip, dns]\n",
    "    output dict of trees with root node as their source IPs'''\n",
    "    \n",
    "    root_tree = defaultdict(int)\n",
    "    \n",
    "    # 1. get dns list per source ip\n",
    "    src_domain_dict = dns_per_src(df)\n",
    "    \n",
    "    # 2. for every srcip, add it to tree and add its branch to tree\n",
    "    for srcip, domain_list in src_domain_dict.iteritems():\n",
    "        root_tree[srcip] = add_branch(srcip, domain_list)\n",
    "\n",
    "    return root_tree"
   ]
  },
  {
   "cell_type": "code",
   "execution_count": 45,
   "metadata": {
    "collapsed": false
   },
   "outputs": [
    {
     "data": {
      "text/plain": [
       "defaultdict(int,\n",
       "            {'107.2.42.58': <networkx.classes.graph.Graph at 0x1144b9190>,\n",
       "             '24.9.76.250': <networkx.classes.graph.Graph at 0x10a8ba610>,\n",
       "             '50.134.220.221': <networkx.classes.graph.Graph at 0x1116b4290>,\n",
       "             '50.170.152.251': <networkx.classes.graph.Graph at 0x114c19fd0>,\n",
       "             '50.183.21.69': <networkx.classes.graph.Graph at 0x111c82b10>,\n",
       "             '50.183.81.160': <networkx.classes.graph.Graph at 0x1144b9650>,\n",
       "             '67.190.144.191': <networkx.classes.graph.Graph at 0x1116b4cd0>,\n",
       "             '69.241.95.82': <networkx.classes.graph.Graph at 0x1144b9890>,\n",
       "             '69.241.95.86': <networkx.classes.graph.Graph at 0x1144b9d50>,\n",
       "             '69.244.58.56': <networkx.classes.graph.Graph at 0x1144b9110>,\n",
       "             '69.252.212.70': <networkx.classes.graph.Graph at 0x1116b4590>,\n",
       "             '69.252.212.82': <networkx.classes.graph.Graph at 0x111c82910>,\n",
       "             '71.56.196.188': <networkx.classes.graph.Graph at 0x1144b9e10>,\n",
       "             '73.14.136.124': <networkx.classes.graph.Graph at 0x1144b9590>,\n",
       "             '73.153.66.183': <networkx.classes.graph.Graph at 0x114cbf5d0>,\n",
       "             '73.24.236.171': <networkx.classes.graph.Graph at 0x111c82550>,\n",
       "             '73.34.159.53': <networkx.classes.graph.Graph at 0x1116b4450>,\n",
       "             '73.34.180.29': <networkx.classes.graph.Graph at 0x1144b91d0>,\n",
       "             '73.34.207.26': <networkx.classes.graph.Graph at 0x1144b9090>,\n",
       "             '73.78.52.192': <networkx.classes.graph.Graph at 0x1144b9990>,\n",
       "             '73.95.130.131': <networkx.classes.graph.Graph at 0x1144b9ad0>,\n",
       "             '75.71.133.235': <networkx.classes.graph.Graph at 0x111c82c50>,\n",
       "             '76.96.44.198': <networkx.classes.graph.Graph at 0x1144b9c50>})"
      ]
     },
     "execution_count": 45,
     "metadata": {},
     "output_type": "execute_result"
    }
   ],
   "source": [
    "# TEST\n",
    "test_df = df2.head(30)\n",
    "root_tree = create_domain_tree(test_df)\n",
    "root_tree\n",
    "#draw_domain_tree(G)"
   ]
  },
  {
   "cell_type": "code",
   "execution_count": 50,
   "metadata": {
    "collapsed": false
   },
   "outputs": [
    {
     "data": {
      "image/png": "[encoded data removed]",
      "text/plain": [
       "<matplotlib.figure.Figure at 0x113877b90>"
      ]
     },
     "metadata": {},
     "output_type": "display_data"
    },
    {
     "data": {
      "image/png": "[encoded data removed]",
      "text/plain": [
       "<matplotlib.figure.Figure at 0x112e84250>"
      ]
     },
     "metadata": {},
     "output_type": "display_data"
    },
    {
     "data": {
      "image/png": "[encoded data removed]",
      "text/plain": [
       "<matplotlib.figure.Figure at 0x112e84990>"
      ]
     },
     "metadata": {},
     "output_type": "display_data"
    }
   ],
   "source": [
    "draw_domain_tree ( root_tree.values()[0] )\n",
    "draw_domain_tree ( root_tree.values()[1] )\n",
    "draw_domain_tree ( root_tree.values()[10] )"
   ]
  },
  {
   "cell_type": "markdown",
   "metadata": {},
   "source": [
    "## TODO\n",
    "- might need to replace networkx with ete3 Tree for better layout\n",
    "- http://etetoolkit.org/"
   ]
  },
  {
   "cell_type": "markdown",
   "metadata": {},
   "source": [
    "# Window every 5 sec"
   ]
  },
  {
   "cell_type": "code",
   "execution_count": 28,
   "metadata": {
    "collapsed": false
   },
   "outputs": [
    {
     "name": "stdout",
     "output_type": "stream",
     "text": [
      "12\n"
     ]
    }
   ],
   "source": [
    "windowed = window_df(df2, 5.0)\n",
    "print len(windowed)"
   ]
  },
  {
   "cell_type": "code",
   "execution_count": 29,
   "metadata": {
    "collapsed": false
   },
   "outputs": [],
   "source": [
    "G1 = create_domain_tree(windowed[0])\n",
    "#print G1.nodes()\n",
    "print G1.edges()\n",
    "# G1.remove_node('com')"
   ]
  },
  {
   "cell_type": "code",
   "execution_count": null,
   "metadata": {
    "collapsed": true
   },
   "outputs": [],
   "source": [
    "# takes too long kernel stuck\n",
    "draw_domain_tree(G1)"
   ]
  },
  {
   "cell_type": "markdown",
   "metadata": {},
   "source": [
    "# Apply hypothesis without drawing trees"
   ]
  },
  {
   "cell_type": "code",
   "execution_count": null,
   "metadata": {
    "collapsed": true
   },
   "outputs": [],
   "source": []
  },
  {
   "cell_type": "code",
   "execution_count": null,
   "metadata": {
    "collapsed": true
   },
   "outputs": [],
   "source": []
  },
  {
   "cell_type": "code",
   "execution_count": null,
   "metadata": {
    "collapsed": true
   },
   "outputs": [],
   "source": []
  },
  {
   "cell_type": "code",
   "execution_count": null,
   "metadata": {
    "collapsed": true
   },
   "outputs": [],
   "source": []
  },
  {
   "cell_type": "code",
   "execution_count": null,
   "metadata": {
    "collapsed": true
   },
   "outputs": [],
   "source": []
  },
  {
   "cell_type": "markdown",
   "metadata": {},
   "source": [
    "# TEST"
   ]
  },
  {
   "cell_type": "code",
   "execution_count": null,
   "metadata": {
    "collapsed": false
   },
   "outputs": [],
   "source": [
    "#T = nx.dfs_tree(G, 'A')\n",
    "G2 = nx.Graph(nx.prim_mst_edges(G))\n",
    "T = nx.bfs_tree(G2, 'A')\n",
    "#T = nx.minimum_spanning_tree(G)\n",
    "\n",
    "plt.figure()\n",
    "#nx.draw(G, with_labels=True)\n",
    "nx.draw(T, with_labels=True)\n",
    "plt.show()"
   ]
  },
  {
   "cell_type": "code",
   "execution_count": null,
   "metadata": {
    "collapsed": false
   },
   "outputs": [],
   "source": [
    "G.has_node('A')"
   ]
  },
  {
   "cell_type": "code",
   "execution_count": null,
   "metadata": {
    "collapsed": false
   },
   "outputs": [],
   "source": [
    "x = '123.112.111.111'\n",
    "t = x.find('.')\n",
    "node = x[:t]\n",
    "print node\n",
    "x2 = x[t+1:]\n",
    "t = x2.find('.')\n",
    "print x2[:t]\n",
    "print x2[t+1:]"
   ]
  },
  {
   "cell_type": "code",
   "execution_count": null,
   "metadata": {
    "collapsed": false
   },
   "outputs": [],
   "source": [
    "btree = nx.balanced_tree(2,4)\n",
    "pos=nx.drawing.nx_agraph.graphviz_layout(btree,prog='dot')\n",
    "nx.draw(btree,pos,with_labels=False,arrows=False)"
   ]
  },
  {
   "cell_type": "code",
   "execution_count": null,
   "metadata": {
    "collapsed": false
   },
   "outputs": [],
   "source": [
    "import networkx as nx\n",
    "\n",
    "g=nx.DiGraph()\n",
    "g.add_edges_from([(1,2), (1,3), (1,4), (2,5), (2,6), (2,7), (3,8), (3,9),\n",
    "                  (4,10), (5,11), (5,12), (6,13)])\n",
    "nx.drawing.nx_pydot.to_pydot(g)"
   ]
  },
  {
   "cell_type": "code",
   "execution_count": null,
   "metadata": {
    "collapsed": false
   },
   "outputs": [],
   "source": [
    "G = nx.Graph()\n",
    "\n",
    "\n",
    "\n",
    "plt.figure()\n",
    "nx.draw(G, with_labels=True)\n",
    "plt.show()"
   ]
  },
  {
   "cell_type": "code",
   "execution_count": null,
   "metadata": {
    "collapsed": false
   },
   "outputs": [],
   "source": [
    "G = nx.Graph()\n",
    "G.add_node('A')\n",
    "G.add_node('B')\n",
    "G.add_node('C')\n",
    "G.add_node('D')\n",
    "G.add_node('E')\n",
    "G.add_node('F')\n",
    "G.add_node('G')\n",
    "G.add_node('H')\n",
    "G.add_node('I')\n",
    "G.add_node('J')\n",
    "G.add_node('K')\n",
    "\n",
    "G.add_edge('A', 'B')\n",
    "G.add_edge('A', 'C')\n",
    "G.add_edge('A', 'D')\n",
    "G.add_edge('B', 'E')\n",
    "G.add_edge('B', 'F')\n",
    "G.add_edge('C', 'G')\n",
    "G.add_edge('D', 'H')\n",
    "G.add_edge('D', 'I')\n",
    "G.add_edge('D', 'J')\n",
    "G.add_edge('I', 'K')\n",
    "\n",
    "T = nx.depth_first_search.dfs_tree(G, 'A')\n",
    "#T = nx.minimum_spanning_tree(G)\n",
    "\n",
    "plt.figure()\n",
    "nx.draw(G, with_labels=True)\n",
    "#nx.draw(T, with_labels=True)\n",
    "plt.show()"
   ]
  },
  {
   "cell_type": "code",
   "execution_count": null,
   "metadata": {
    "collapsed": true
   },
   "outputs": [],
   "source": []
  }
 ],
 "metadata": {
  "kernelspec": {
   "display_name": "Python 2",
   "language": "python",
   "name": "python2"
  },
  "language_info": {
   "codemirror_mode": {
    "name": "ipython",
    "version": 2
   },
   "file_extension": ".py",
   "mimetype": "text/x-python",
   "name": "python",
   "nbconvert_exporter": "python",
   "pygments_lexer": "ipython2",
   "version": "2.7.10"
  }
 },
 "nbformat": 4,
 "nbformat_minor": 0
}
