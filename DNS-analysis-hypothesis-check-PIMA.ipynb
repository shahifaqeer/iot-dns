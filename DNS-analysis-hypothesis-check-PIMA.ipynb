{
 "cells": [
  {
   "cell_type": "code",
   "execution_count": 21,
   "metadata": {
    "collapsed": true
   },
   "outputs": [],
   "source": [
    "from __future__ import division\n",
    "import numpy as np\n",
    "import os, sys\n",
    "import matplotlib\n",
    "#matplotlib.use('Agg')\n",
    "%matplotlib nbagg\n",
    "import matplotlib.pyplot as plt\n",
    "import pandas as pd\n",
    "from collections import defaultdict"
   ]
  },
  {
   "cell_type": "code",
   "execution_count": 22,
   "metadata": {
    "collapsed": true
   },
   "outputs": [],
   "source": [
    "def getCDF(data):\n",
    "    xdata = np.sort(data)\n",
    "    ydata = [i/len(xdata) for i in range(len(xdata))]\n",
    "    return xdata, ydata"
   ]
  },
  {
   "cell_type": "code",
   "execution_count": 24,
   "metadata": {
    "collapsed": false
   },
   "outputs": [],
   "source": [
    "DNS_moderate_lookups = {\n",
    "    'nest_therm': '.nest.com',\n",
    "    'nest_cam': '.dropcam.com',\n",
    "    'smartthings': '.smartthings.com',\n",
    "    'pixstar': '.pix-star.com',\n",
    "    'echo': 'device-metrics-us.amazon.com',\n",
    "    'sharx': 'sharxsecurity.com',\n",
    "    'august': '.august.com',\n",
    "    'hue': '.meethue.com',\n",
    "    #'apple': 'time-ios.apple.com',\n",
    "    'apple': 'gs-loc.ls-apple.com',\n",
    "    'ps': '.playstation.net',\n",
    "    'xbox': 'xboxlive.com',\n",
    "    'nintendo': 'nintendo.net',\n",
    "    }"
   ]
  },
  {
   "cell_type": "code",
   "execution_count": 25,
   "metadata": {
    "collapsed": true
   },
   "outputs": [],
   "source": [
    "# LOAD PIMA EXTRACT\n",
    "df = pd.read_csv(\"pima-extract.csv\", sep=\"|\").fillna('')"
   ]
  },
  {
   "cell_type": "code",
   "execution_count": 26,
   "metadata": {
    "collapsed": true
   },
   "outputs": [],
   "source": [
    "def reduce_domain(dom):\n",
    "    # return 2nd level domain\n",
    "    return \".\".join(dom.split('.')[-3:])"
   ]
  },
  {
   "cell_type": "code",
   "execution_count": 27,
   "metadata": {
    "collapsed": false
   },
   "outputs": [],
   "source": [
    "df['domain'] = df['dns.qry.name'].apply(lambda x: reduce_domain(x))"
   ]
  },
  {
   "cell_type": "code",
   "execution_count": 28,
   "metadata": {
    "collapsed": false
   },
   "outputs": [],
   "source": [
    "# REMOVE entries with ipv6\n",
    "df2 = df[df['ip.src']!='']"
   ]
  },
  {
   "cell_type": "code",
   "execution_count": 29,
   "metadata": {
    "collapsed": false
   },
   "outputs": [
    {
     "data": {
      "text/html": [
       "<div>\n",
       "<table border=\"1\" class=\"dataframe\">\n",
       "  <thead>\n",
       "    <tr style=\"text-align: right;\">\n",
       "      <th></th>\n",
       "      <th>frame.time_relative</th>\n",
       "      <th>eth.src</th>\n",
       "      <th>eth.dst</th>\n",
       "      <th>ip.src</th>\n",
       "      <th>ip.dst</th>\n",
       "      <th>dns.qry.name</th>\n",
       "      <th>domain</th>\n",
       "    </tr>\n",
       "  </thead>\n",
       "  <tbody>\n",
       "    <tr>\n",
       "      <th>0</th>\n",
       "      <td>0.000000</td>\n",
       "      <td>00:1f:a0:11:b5:3a</td>\n",
       "      <td>40:a8:f0:34:48:5c</td>\n",
       "      <td>24.9.76.250</td>\n",
       "      <td>69.252.212.78</td>\n",
       "      <td>android.clients.google.com</td>\n",
       "      <td>clients.google.com</td>\n",
       "    </tr>\n",
       "    <tr>\n",
       "      <th>1</th>\n",
       "      <td>0.000001</td>\n",
       "      <td>00:1c:73:69:93:01</td>\n",
       "      <td>e0:ac:f1:39:39:53</td>\n",
       "      <td>69.241.95.82</td>\n",
       "      <td>69.31.113.189</td>\n",
       "      <td>e3645.b.akamaiedge.net</td>\n",
       "      <td>b.akamaiedge.net</td>\n",
       "    </tr>\n",
       "    <tr>\n",
       "      <th>2</th>\n",
       "      <td>0.000005</td>\n",
       "      <td>00:1f:a0:11:b5:3a</td>\n",
       "      <td>40:a8:f0:34:19:30</td>\n",
       "      <td>24.9.76.250</td>\n",
       "      <td>69.252.212.88</td>\n",
       "      <td>android.clients.google.com</td>\n",
       "      <td>clients.google.com</td>\n",
       "    </tr>\n",
       "    <tr>\n",
       "      <th>3</th>\n",
       "      <td>0.000009</td>\n",
       "      <td>00:1f:a0:11:b5:3a</td>\n",
       "      <td>40:a8:f0:34:1f:e0</td>\n",
       "      <td>24.9.76.250</td>\n",
       "      <td>69.252.212.84</td>\n",
       "      <td>android.clients.google.com</td>\n",
       "      <td>clients.google.com</td>\n",
       "    </tr>\n",
       "    <tr>\n",
       "      <th>4</th>\n",
       "      <td>0.000010</td>\n",
       "      <td>00:1f:a0:11:b5:3a</td>\n",
       "      <td>40:a8:f0:33:fa:68</td>\n",
       "      <td>73.153.66.183</td>\n",
       "      <td>69.252.212.76</td>\n",
       "      <td>www.polls.newsvine.com</td>\n",
       "      <td>polls.newsvine.com</td>\n",
       "    </tr>\n",
       "  </tbody>\n",
       "</table>\n",
       "</div>"
      ],
      "text/plain": [
       "   frame.time_relative            eth.src            eth.dst         ip.src  \\\n",
       "0             0.000000  00:1f:a0:11:b5:3a  40:a8:f0:34:48:5c    24.9.76.250   \n",
       "1             0.000001  00:1c:73:69:93:01  e0:ac:f1:39:39:53   69.241.95.82   \n",
       "2             0.000005  00:1f:a0:11:b5:3a  40:a8:f0:34:19:30    24.9.76.250   \n",
       "3             0.000009  00:1f:a0:11:b5:3a  40:a8:f0:34:1f:e0    24.9.76.250   \n",
       "4             0.000010  00:1f:a0:11:b5:3a  40:a8:f0:33:fa:68  73.153.66.183   \n",
       "\n",
       "          ip.dst                dns.qry.name              domain  \n",
       "0  69.252.212.78  android.clients.google.com  clients.google.com  \n",
       "1  69.31.113.189      e3645.b.akamaiedge.net    b.akamaiedge.net  \n",
       "2  69.252.212.88  android.clients.google.com  clients.google.com  \n",
       "3  69.252.212.84  android.clients.google.com  clients.google.com  \n",
       "4  69.252.212.76      www.polls.newsvine.com  polls.newsvine.com  "
      ]
     },
     "execution_count": 29,
     "metadata": {},
     "output_type": "execute_result"
    }
   ],
   "source": [
    "df2.head()"
   ]
  },
  {
   "cell_type": "markdown",
   "metadata": {},
   "source": [
    "# SERVER ANALYSIS\n",
    "- why 11k resolvers?"
   ]
  },
  {
   "cell_type": "code",
   "execution_count": 30,
   "metadata": {
    "collapsed": false
   },
   "outputs": [
    {
     "data": {
      "text/plain": [
       "11766"
      ]
     },
     "execution_count": 30,
     "metadata": {},
     "output_type": "execute_result"
    }
   ],
   "source": [
    "len( df2['ip.dst'].unique() )"
   ]
  },
  {
   "cell_type": "code",
   "execution_count": 31,
   "metadata": {
    "collapsed": false
   },
   "outputs": [
    {
     "name": "stdout",
     "output_type": "stream",
     "text": [
      "11766\n"
     ]
    },
    {
     "name": "stderr",
     "output_type": "stream",
     "text": [
      "/usr/local/lib/python2.7/site-packages/ipykernel/__main__.py:3: FutureWarning: sort is deprecated, use sort_values(inplace=True) for for INPLACE sorting\n",
      "  app.launch_new_instance()\n"
     ]
    },
    {
     "data": {
      "text/plain": [
       "ip.dst\n",
       "69.252.212.70      148687\n",
       "69.252.212.78      148680\n",
       "69.252.212.76      148669\n",
       "69.252.212.72      148666\n",
       "69.252.212.74      148659\n",
       "69.252.212.66      148652\n",
       "69.252.212.68      148650\n",
       "69.252.212.88      148649\n",
       "69.252.212.80      148643\n",
       "69.252.212.82      148640\n",
       "69.252.212.84      148639\n",
       "69.252.212.86      148638\n",
       "68.87.85.132         6773\n",
       "205.251.195.166      6247\n",
       "205.251.195.252      4032\n",
       "192.48.79.30         3179\n",
       "192.54.112.30        3124\n",
       "69.252.205.234       3000\n",
       "63.243.243.14        2891\n",
       "192.35.51.30         2617\n",
       "216.239.34.10        2310\n",
       "192.12.94.30         2224\n",
       "199.7.83.42          2117\n",
       "84.53.139.129        2089\n",
       "205.251.194.154      1949\n",
       "205.251.194.48       1719\n",
       "204.79.195.48        1701\n",
       "96.17.70.171         1611\n",
       "192.42.93.30         1543\n",
       "63.243.243.13        1479\n",
       "                    ...  \n",
       "205.251.198.19          1\n",
       "205.251.198.191         1\n",
       "205.251.198.195         1\n",
       "205.251.198.21          1\n",
       "205.251.198.212         1\n",
       "205.251.198.140         1\n",
       "205.251.198.138         1\n",
       "205.251.197.66          1\n",
       "205.251.198.104         1\n",
       "205.251.197.67          1\n",
       "205.251.197.69          1\n",
       "205.251.197.7           1\n",
       "205.251.197.70          1\n",
       "205.251.197.83          1\n",
       "205.251.197.90          1\n",
       "205.251.197.96          1\n",
       "205.251.197.97          1\n",
       "205.251.198.102         1\n",
       "205.251.198.106         1\n",
       "205.251.198.132         1\n",
       "205.251.198.11          1\n",
       "205.251.198.113         1\n",
       "205.251.198.114         1\n",
       "205.251.198.117         1\n",
       "205.251.198.118         1\n",
       "205.251.198.127         1\n",
       "205.251.198.128         1\n",
       "205.251.198.129         1\n",
       "205.251.198.130         1\n",
       "1.226.85.6              1\n",
       "Name: domain, dtype: int64"
      ]
     },
     "execution_count": 31,
     "metadata": {},
     "output_type": "execute_result"
    }
   ],
   "source": [
    "# By number of queries\n",
    "l = df2.groupby('ip.dst')['domain'].count()\n",
    "l.sort(ascending=False)\n",
    "print len(l)\n",
    "l"
   ]
  },
  {
   "cell_type": "code",
   "execution_count": 32,
   "metadata": {
    "collapsed": false
   },
   "outputs": [
    {
     "name": "stderr",
     "output_type": "stream",
     "text": [
      "/usr/local/lib/python2.7/site-packages/ipykernel/__main__.py:3: FutureWarning: sort is deprecated, use sort_values(inplace=True) for for INPLACE sorting\n",
      "  app.launch_new_instance()\n"
     ]
    },
    {
     "data": {
      "text/plain": [
       "ip.dst         ip.src        \n",
       "69.252.212.78  73.14.106.0       13202\n",
       "69.252.212.80  73.14.106.0       13100\n",
       "69.252.212.74  73.14.106.0       13092\n",
       "69.252.212.66  73.14.106.0       13082\n",
       "69.252.212.70  73.14.106.0       13065\n",
       "69.252.212.82  73.14.106.0       13060\n",
       "69.252.212.72  73.14.106.0       13059\n",
       "69.252.212.88  73.14.106.0       13057\n",
       "69.252.212.76  73.14.106.0       13044\n",
       "69.252.212.86  73.14.106.0       13030\n",
       "69.252.212.84  73.14.106.0       12969\n",
       "69.252.212.68  73.14.106.0       12955\n",
       "69.252.212.70  71.228.150.166     8277\n",
       "69.252.212.66  71.228.150.166     8261\n",
       "69.252.212.72  71.228.150.166     8224\n",
       "69.252.212.74  71.228.150.166     8200\n",
       "69.252.212.68  71.228.150.166     8197\n",
       "69.252.212.88  71.228.150.166     8197\n",
       "69.252.212.76  71.228.150.166     8179\n",
       "69.252.212.86  71.228.150.166     8165\n",
       "69.252.212.84  71.228.150.166     8087\n",
       "69.252.212.80  71.228.150.166     8054\n",
       "69.252.212.82  71.228.150.166     8053\n",
       "69.252.212.78  71.228.150.166     8011\n",
       "69.252.212.80  67.162.143.192     7495\n",
       "69.252.212.82  67.162.143.192     7461\n",
       "69.252.212.88  67.162.143.192     7454\n",
       "69.252.212.84  67.162.143.192     7453\n",
       "69.252.212.86  67.162.143.192     7433\n",
       "69.252.212.78  67.162.143.192     7428\n",
       "                                 ...  \n",
       "69.252.212.80  50.155.171.220        1\n",
       "               50.155.171.173        1\n",
       "               50.155.171.170        1\n",
       "               50.155.171.118        1\n",
       "               50.155.171.103        1\n",
       "               50.155.171.10         1\n",
       "               50.155.170.17         1\n",
       "               50.155.170.167        1\n",
       "               50.155.170.142        1\n",
       "               50.155.172.36         1\n",
       "               50.155.172.57         1\n",
       "               50.155.172.76         1\n",
       "               50.155.173.31         1\n",
       "               50.155.174.189        1\n",
       "               50.155.174.173        1\n",
       "               50.155.174.115        1\n",
       "               50.155.174.101        1\n",
       "               50.155.173.88         1\n",
       "               50.155.173.63         1\n",
       "               50.155.173.39         1\n",
       "               50.155.173.213        1\n",
       "               50.155.172.89         1\n",
       "               50.155.173.189        1\n",
       "               50.155.173.188        1\n",
       "               50.155.173.175        1\n",
       "               50.155.173.146        1\n",
       "               50.155.172.95         1\n",
       "               50.155.172.93         1\n",
       "               50.155.172.91         1\n",
       "1.226.85.6     69.241.95.87          1\n",
       "Name: domain, dtype: int64"
      ]
     },
     "execution_count": 32,
     "metadata": {},
     "output_type": "execute_result"
    }
   ],
   "source": [
    "# by source-dst combos\n",
    "l = df2.groupby(['ip.dst', 'ip.src'])['domain'].count()\n",
    "l.sort(ascending=False)\n",
    "l"
   ]
  },
  {
   "cell_type": "code",
   "execution_count": 33,
   "metadata": {
    "collapsed": false
   },
   "outputs": [
    {
     "name": "stdout",
     "output_type": "stream",
     "text": [
      "11766\n"
     ]
    },
    {
     "name": "stderr",
     "output_type": "stream",
     "text": [
      "/usr/local/lib/python2.7/site-packages/ipykernel/__main__.py:2: FutureWarning: sort is deprecated, use sort_values(inplace=True) for for INPLACE sorting\n",
      "  from ipykernel import kernelapp as app\n"
     ]
    },
    {
     "data": {
      "text/plain": [
       "ip.dst\n",
       "69.252.212.66      65721\n",
       "69.252.212.70      65654\n",
       "69.252.212.72      65633\n",
       "69.252.212.82      65604\n",
       "69.252.212.80      65594\n",
       "69.252.212.74      65589\n",
       "69.252.212.88      65563\n",
       "69.252.212.68      65557\n",
       "69.252.212.76      65521\n",
       "69.252.212.78      65484\n",
       "69.252.212.84      65356\n",
       "69.252.212.86      65234\n",
       "209.234.234.42         6\n",
       "209.67.208.4           6\n",
       "209.66.70.22           6\n",
       "173.227.191.13         6\n",
       "209.82.241.34          6\n",
       "209.249.181.21         6\n",
       "209.244.4.149          6\n",
       "209.244.0.1            6\n",
       "205.251.195.57         6\n",
       "209.211.200.8          6\n",
       "209.175.46.21          6\n",
       "209.170.216.2          6\n",
       "210.116.114.212        6\n",
       "209.17.114.135         6\n",
       "209.144.103.30         6\n",
       "209.141.51.61          6\n",
       "210.103.240.10         6\n",
       "172.17.22.11           6\n",
       "                   ...  \n",
       "207.45.178.157         1\n",
       "207.44.96.129          1\n",
       "207.44.208.37          1\n",
       "207.44.188.90          1\n",
       "207.210.151.9          1\n",
       "207.210.202.217        1\n",
       "207.210.70.162         1\n",
       "207.226.161.2          1\n",
       "207.230.136.194        1\n",
       "207.235.66.146         1\n",
       "207.239.68.20          1\n",
       "207.242.148.11         1\n",
       "207.244.71.165         1\n",
       "207.245.82.2           1\n",
       "207.246.129.71         1\n",
       "207.246.130.14         1\n",
       "207.246.157.206        1\n",
       "207.250.128.72         1\n",
       "207.250.244.126        1\n",
       "207.250.87.5           1\n",
       "207.250.87.6           1\n",
       "207.251.48.6           1\n",
       "207.32.178.229         1\n",
       "207.32.186.246         1\n",
       "207.32.191.58          1\n",
       "207.32.233.36          1\n",
       "207.36.172.22          1\n",
       "207.36.47.9            1\n",
       "207.44.0.1             1\n",
       "1.226.85.6             1\n",
       "Name: domain, dtype: int64"
      ]
     },
     "execution_count": 33,
     "metadata": {},
     "output_type": "execute_result"
    }
   ],
   "source": [
    "m = l.reset_index().groupby('ip.dst')['domain'].count()\n",
    "m.sort(ascending=False)\n",
    "print len(m)\n",
    "m"
   ]
  },
  {
   "cell_type": "markdown",
   "metadata": {},
   "source": [
    "### Unique DNS servers analysis\n",
    "- Over 11k servers for 2500k homes, 500k were ipv6\n",
    "- 12 main servers for 65k homes each\n"
   ]
  },
  {
   "cell_type": "markdown",
   "metadata": {},
   "source": [
    "# Identifying IoT devices using DNS data\n"
   ]
  },
  {
   "cell_type": "markdown",
   "metadata": {},
   "source": [
    "## Hypothesis 1: There will not be many homes with IoT related DNS queries\n",
    "- most popular domains across homes in dataset will be non-IoT related and can be filtered out using a popularity threshold \n",
    "- Count second-level domains across homes - IoTs should be in the filtered tail"
   ]
  },
  {
   "cell_type": "code",
   "execution_count": 34,
   "metadata": {
    "collapsed": false
   },
   "outputs": [],
   "source": [
    "gp = df2.groupby(['ip.src', 'domain'])\n",
    "df_home_dom = gp['dns.qry.name'].count().reset_index()"
   ]
  },
  {
   "cell_type": "code",
   "execution_count": 35,
   "metadata": {
    "collapsed": false
   },
   "outputs": [
    {
     "name": "stdout",
     "output_type": "stream",
     "text": [
      "260840\n",
      "72964\n"
     ]
    }
   ],
   "source": [
    "print len(df_home_dom['ip.src'].unique())\n",
    "print len(df_home_dom['domain'].unique())"
   ]
  },
  {
   "cell_type": "code",
   "execution_count": 36,
   "metadata": {
    "collapsed": false
   },
   "outputs": [
    {
     "name": "stderr",
     "output_type": "stream",
     "text": [
      "/usr/local/lib/python2.7/site-packages/ipykernel/__main__.py:2: FutureWarning: sort is deprecated, use sort_values(inplace=True) for for INPLACE sorting\n",
      "  from ipykernel import kernelapp as app\n"
     ]
    }
   ],
   "source": [
    "domain_home_count = df_home_dom.groupby('domain')['ip.src'].count()\n",
    "domain_home_count.sort(ascending=False)"
   ]
  },
  {
   "cell_type": "code",
   "execution_count": 57,
   "metadata": {
    "collapsed": false
   },
   "outputs": [
    {
     "data": {
      "text/plain": [
       "domain\n",
       "com.akadns.net                  42301\n",
       "dscc.akamaiedge.net             21164\n",
       "www.google.com                  14996\n",
       "g.aaplimg.com                   14748\n",
       "icloud.apple-dns.net            14378\n",
       "www.apple.com                   13831\n",
       "e9.akamaiedge.net               13538\n",
       "r53.xcal.tv                     13479\n",
       "l.google.com                    12457\n",
       "push.apple.com                  11833\n",
       "apple.com                       10187\n",
       "c10r.facebook.com                8580\n",
       "elb.amazonaws.com                8098\n",
       "clients.google.com               7904\n",
       "graph.facebook.com               7596\n",
       "a.root-servers.net               7592\n",
       "g.akamaiedge.net                 7215\n",
       "time-ios.apple.com               6642\n",
       "www.belkin.com                   6561\n",
       "co.comcast.net                   6122\n",
       "guzzoni.apple.com                6106\n",
       "itunes.apple.com                 5906\n",
       "smoot.apple.com                  5431\n",
       "fna.fbcdn.net                    5398\n",
       "www.googleapis.com               5376\n",
       "a.akamaiedge.net                 5168\n",
       "ccp.xcal.tv                      4470\n",
       "g.doubleclick.net                4210\n",
       "edge-mqtt.facebook.com           4191\n",
       "com.edgekey.net                  3750\n",
       "ls.apple.com                     3738\n",
       "api-global.netflix.com           3736\n",
       "data.microsoft.com               3456\n",
       "imap.gmail.com                   3440\n",
       "ichnaea.netflix.com              3250\n",
       "l.doubleclick.net                3222\n",
       "clients4.google.com              3215\n",
       "mtalk.google.com                 3196\n",
       "s3.amazonaws.com                 3175\n",
       "play.googleapis.com              2912\n",
       "g4.akamai.net                    2875\n",
       "e.crashlytics.com                2758\n",
       "www.facebook.com                 2706\n",
       "xx.fbcdn.net                     2672\n",
       "www.amazon.com                   2661\n",
       "mail.yahoo.com                   2532\n",
       "xp.apple.com                     2527\n",
       "query.yahoo.com                  2439\n",
       "ipv6.microsoft.com               2330\n",
       "10.in-addr.arpa                  2307\n",
       "android.googleapis.com           2232\n",
       "lp.xcal.tv                       2148\n",
       "outlook.office365.com            2137\n",
       "eas.outlook.com                  2108\n",
       "device-metrics-us.amazon.com     2041\n",
       "www.tp-link.com                  2037\n",
       "aria.microsoft.com               2034\n",
       "xcr.comcast.net                  2028\n",
       "Name: ip.src, dtype: int64"
      ]
     },
     "execution_count": 57,
     "metadata": {},
     "output_type": "execute_result"
    }
   ],
   "source": [
    "domain_home_count[domain_home_count>2000]"
   ]
  },
  {
   "cell_type": "code",
   "execution_count": 50,
   "metadata": {
    "collapsed": false
   },
   "outputs": [
    {
     "name": "stdout",
     "output_type": "stream",
     "text": [
      "meethue.com\n",
      "gs-loc.ls-apple.com\n",
      "device-metrics-us.amazon.com\n",
      "device: echo domain: device-metrics-us.amazon.com count: 2041\n",
      "sharxsecurity.com\n",
      "nintendo.net\n",
      "dropcam.com\n",
      "august.com\n",
      "playstation.net\n",
      "smartthings.com\n",
      "pix-star.com\n",
      "xboxlive.com\n",
      "nest.com\n"
     ]
    }
   ],
   "source": [
    "for indx, val in DNS_moderate_lookups.items():\n",
    "    if val[0] == '.':\n",
    "        val2 = val[1:]\n",
    "    else:\n",
    "        val2 = val\n",
    "    if ( val2 in domain_home_count ):\n",
    "        print \"device:\", indx, \"domain:\", val2, \"count:\", domain_home_count.ix[val2]"
   ]
  },
  {
   "cell_type": "code",
   "execution_count": 54,
   "metadata": {
    "collapsed": false
   },
   "outputs": [
    {
     "name": "stdout",
     "output_type": "stream",
     "text": [
      "2041 echo device-metrics-us.amazon.com device-metrics-us.amazon.com\n",
      "644 ps .playstation.net dl.playstation.net\n",
      "380 ps .playstation.net community.playstation.net\n",
      "301 ps .playstation.net km.playstation.net\n",
      "296 nest_therm .nest.com devices.nest.com\n",
      "273 xbox xboxlive.com auth.xboxlive.com\n",
      "196 ps .playstation.net update.playstation.net\n",
      "176 xbox xboxlive.com licensing.xboxlive.com\n",
      "168 nintendo nintendo.net app.nintendo.net\n",
      "163 xbox xboxlive.com update-cdn.xboxlive.com\n",
      "158 xbox xboxlive.com www.xboxlive.com\n",
      "149 nest_therm .nest.com home.nest.com\n",
      "132 nintendo nintendo.net cdn.nintendo.net\n",
      "130 nintendo nintendo.net shop.nintendo.net\n",
      "120 ps .playstation.net communication.playstation.net\n",
      "115 ps .playstation.net ad.playstation.net\n",
      "114 nintendo nintendo.net olv.nintendo.net\n",
      "113 xbox xboxlive.com eplists.xboxlive.com\n",
      "102 ps .playstation.net ac.playstation.net\n",
      "97 xbox xboxlive.com assets1.xboxlive.com\n",
      "93 xbox xboxlive.com titlestorage.xboxlive.com\n",
      "93 xbox xboxlive.com settings.xboxlive.com\n",
      "90 xbox xboxlive.com mgt.xboxlive.com\n",
      "85 nest_therm .nest.com weather.nest.com\n",
      "71 xbox xboxlive.com userpresence.xboxlive.com\n",
      "71 ps .playstation.net stun.playstation.net\n",
      "61 xbox xboxlive.com data-vef.xboxlive.com\n",
      "57 xbox xboxlive.com update.xboxlive.com\n",
      "54 nest_therm .nest.com production.nest.com\n",
      "54 smartthings .smartthings.com fw-update.smartthings.com\n",
      "52 xbox xboxlive.com xflight.xboxlive.com\n",
      "45 nest_therm .nest.com frontdoor.nest.com\n",
      "43 xbox xboxlive.com attestation.xboxlive.com\n",
      "38 xbox xboxlive.com cdf-anon.xboxlive.com\n",
      "37 xbox xboxlive.com sessiondirectory.xboxlive.com\n",
      "23 xbox xboxlive.com rta.xboxlive.com\n",
      "20 xbox xboxlive.com gtm.xboxlive.com\n",
      "20 nest_cam .dropcam.com nexusapi.dropcam.com\n",
      "19 xbox xboxlive.com assets2.xboxlive.com\n",
      "18 xbox xboxlive.com dlassets.xboxlive.com\n",
      "18 xbox xboxlive.com musicdelivery-ssl.xboxlive.com\n",
      "18 xbox xboxlive.com experimentation.xboxlive.com\n",
      "18 ps .playstation.net net.playstation.net\n",
      "18 xbox xboxlive.com social.xboxlive.com\n",
      "17 nest_therm .nest.com apps-weather.nest.com\n",
      "17 nest_cam .dropcam.com www.dropcam.com\n",
      "16 hue .meethue.com www.meethue.com\n",
      "16 xbox xboxlive.com profile.xboxlive.com\n",
      "15 xbox xboxlive.com cloudcollection-ssl.xboxlive.com\n",
      "15 xbox xboxlive.com privacy.xboxlive.com\n",
      "14 xbox xboxlive.com comments.xboxlive.com\n",
      "14 hue .meethue.com bridge.meethue.com\n",
      "14 xbox xboxlive.com settings-ssl.xboxlive.com\n",
      "14 xbox xboxlive.com accounts.xboxlive.com\n",
      "13 xbox xboxlive.com images-eds.xboxlive.com\n",
      "13 nest_cam .dropcam.com nexus.dropcam.com\n",
      "12 pixstar .pix-star.com api.pix-star.com\n",
      "12 xbox xboxlive.com eds.xboxlive.com\n",
      "12 xbox xboxlive.com peoplehub.xboxlive.com\n",
      "11 august .august.com doorbells.august.com\n",
      "11 xbox xboxlive.com msg.xboxlive.com\n",
      "10 nest_therm .nest.com time.nest.com\n",
      "9 xbox xboxlive.com userstats.xboxlive.com\n",
      "9 ps .playstation.net s0.playstation.net\n",
      "9 ps .playstation.net matching.playstation.net\n",
      "8 xbox xboxlive.com musicimage.xboxlive.com\n",
      "8 nest_therm .nest.com developer-api.nest.com\n",
      "7 ps .playstation.net msys.playstation.net\n",
      "7 smartthings .smartthings.com connect.smartthings.com\n",
      "7 xbox xboxlive.com compass.xboxlive.com\n",
      "7 xbox xboxlive.com inventory.xboxlive.com\n",
      "7 xbox xboxlive.com notify.xboxlive.com\n",
      "7 nintendo nintendo.net account.nintendo.net\n",
      "6 xbox xboxlive.com avatarservices.xboxlive.com\n",
      "6 nintendo nintendo.net eshop.nintendo.net\n",
      "6 xbox xboxlive.com sas.xboxlive.com\n",
      "5 smartthings .smartthings.com api.smartthings.com\n",
      "5 xbox xboxlive.com manifest.xboxlive.com\n",
      "4 xbox xboxlive.com oneguide.xboxlive.com\n",
      "4 xbox xboxlive.com xperiments.xboxlive.com\n",
      "4 xbox xboxlive.com data.xboxlive.com\n",
      "4 xbox xboxlive.com appchannels-connect.xboxlive.com\n",
      "4 nest_therm .nest.com updates.nest.com\n",
      "3 xbox xboxlive.com achievements.xboxlive.com\n",
      "3 nest_cam .dropcam.com oculus810-vir.dropcam.com\n",
      "3 nest_cam .dropcam.com oculus614-vir.dropcam.com\n",
      "3 xbox xboxlive.com avatar.xboxlive.com\n",
      "3 xbox xboxlive.com avty.xboxlive.com\n",
      "3 xbox xboxlive.com maelstrom.xboxlive.com\n",
      "3 xbox xboxlive.com editorial.xboxlive.com\n",
      "3 xbox xboxlive.com client-auth.xboxlive.com\n",
      "3 xbox xboxlive.com titlehub.xboxlive.com\n",
      "3 xbox xboxlive.com gameclipscontent-d3008.xboxlive.com\n",
      "3 xbox xboxlive.com gameclipscontent-d2019.xboxlive.com\n",
      "3 xbox xboxlive.com gameclipscontent-d2013.xboxlive.com\n",
      "3 nest_cam .dropcam.com files.dropcam.com\n",
      "2 xbox xboxlive.com musicmatch-ssl.xboxlive.com\n",
      "2 xbox xboxlive.com image.xboxlive.com\n",
      "2 xbox xboxlive.com gameclipscontent-d2002.xboxlive.com\n",
      "2 nest_cam .dropcam.com files-ft.dropcam.com\n",
      "2 xbox xboxlive.com gameclipscontent-t2011.xboxlive.com\n",
      "2 xbox xboxlive.com gameclipscontent-t2022.xboxlive.com\n",
      "2 xbox xboxlive.com gameclipscontent-t2023.xboxlive.com\n",
      "2 xbox xboxlive.com gameclipscontent-t3010.xboxlive.com\n",
      "2 smartthings .smartthings.com community.smartthings.com\n",
      "2 xbox xboxlive.com socialaggregation.xboxlive.com\n",
      "2 nest_cam .dropcam.com oculus338-vir.dropcam.com\n",
      "2 nest_cam .dropcam.com oculus646-vir.dropcam.com\n",
      "2 nest_cam .dropcam.com oculus877-vir.dropcam.com\n",
      "2 nest_cam .dropcam.com oculus121-vir.dropcam.com\n",
      "2 xbox xboxlive.com beacons.xboxlive.com\n",
      "2 xbox xboxlive.com xbox-mbr.xboxlive.com\n",
      "2 xbox xboxlive.com roamingprofile.xboxlive.com\n",
      "2 sharx sharxsecurity.com www.sharxsecurity.com\n",
      "2 august .august.com api-production.august.com\n",
      "1 august .august.com api-alt.august.com\n",
      "1 xbox xboxlive.com bst-akac.xboxlive.com\n",
      "1 xbox xboxlive.com auth2.xboxlive.com\n",
      "1 xbox xboxlive.com screenshotscontent-t3002.xboxlive.com\n",
      "1 xbox xboxlive.com screenshotscontent-t2002.xboxlive.com\n",
      "1 nest_cam .dropcam.com stream-delta.dropcam.com\n",
      "1 nest_cam .dropcam.com stream-bravo.dropcam.com\n",
      "1 nest_cam .dropcam.com stream-alfa.dropcam.com\n",
      "1 xbox xboxlive.com signals-ratings.xboxlive.com\n",
      "1 xbox xboxlive.com snconnect.xboxlive.com\n",
      "1 xbox xboxlive.com people.xboxlive.com\n",
      "1 xbox xboxlive.com presence.xboxlive.com\n",
      "1 xbox xboxlive.com packages.xboxlive.com\n",
      "1 xbox xboxlive.com progress.xboxlive.com\n",
      "1 xbox xboxlive.com uds.xboxlive.com\n",
      "1 xbox xboxlive.com usertitles.xboxlive.com\n",
      "1 nest_therm .nest.com video.nest.com\n",
      "1 xbox xboxlive.com webstream.xboxlive.com\n",
      "1 xbox xboxlive.com download.xboxlive.com\n",
      "1 xbox xboxlive.com dlassets2.xboxlive.com\n",
      "1 xbox xboxlive.com gameclipscontent-d2014.xboxlive.com\n",
      "1 xbox xboxlive.com gameclipscontent-d2021.xboxlive.com\n",
      "1 xbox xboxlive.com gameclipscontent-d3005.xboxlive.com\n",
      "1 xbox xboxlive.com gameclipstransfer.xboxlive.com\n",
      "1 xbox xboxlive.com gameclipsmetadata.xboxlive.com\n",
      "1 xbox xboxlive.com gameclipscontent-t3011.xboxlive.com\n",
      "1 xbox xboxlive.com gameclipscontent-t3007.xboxlive.com\n",
      "1 xbox xboxlive.com gameclipscontent-t2020.xboxlive.com\n",
      "1 xbox xboxlive.com gameclipscontent-t2018.xboxlive.com\n",
      "1 xbox xboxlive.com gameclipscontent-t2017.xboxlive.com\n",
      "1 xbox xboxlive.com gameclipscontent-t2015.xboxlive.com\n",
      "1 xbox xboxlive.com gameclipscontent-d3010.xboxlive.com\n",
      "1 nest_therm .nest.com ft.nest.com\n",
      "1 xbox xboxlive.com eds-origin.xboxlive.com\n",
      "1 ps .playstation.net ns04.playstation.net\n",
      "1 nest_cam .dropcam.com oculus410-vir.dropcam.com\n",
      "1 nest_cam .dropcam.com oculus300-vir.dropcam.com\n",
      "1 nest_cam .dropcam.com oculus211-vir.dropcam.com\n",
      "1 nintendo nintendo.net miiverse.nintendo.net\n",
      "1 xbox xboxlive.com nfl2.xboxlive.com\n"
     ]
    }
   ],
   "source": [
    "for k in domain_home_count.keys():\n",
    "    for indx, val in DNS_moderate_lookups.items():\n",
    "        if val in k:\n",
    "            print domain_home_count[k],  indx, val, k"
   ]
  },
  {
   "cell_type": "markdown",
   "metadata": {
    "collapsed": true
   },
   "source": [
    "### Threshold and remove\n",
    "- thresh < 10000"
   ]
  },
  {
   "cell_type": "code",
   "execution_count": 42,
   "metadata": {
    "collapsed": false
   },
   "outputs": [
    {
     "data": {
      "text/plain": [
       "domain\n",
       "c10r.facebook.com                 8580\n",
       "elb.amazonaws.com                 8098\n",
       "clients.google.com                7904\n",
       "graph.facebook.com                7596\n",
       "a.root-servers.net                7592\n",
       "g.akamaiedge.net                  7215\n",
       "time-ios.apple.com                6642\n",
       "www.belkin.com                    6561\n",
       "co.comcast.net                    6122\n",
       "guzzoni.apple.com                 6106\n",
       "itunes.apple.com                  5906\n",
       "smoot.apple.com                   5431\n",
       "fna.fbcdn.net                     5398\n",
       "www.googleapis.com                5376\n",
       "a.akamaiedge.net                  5168\n",
       "ccp.xcal.tv                       4470\n",
       "g.doubleclick.net                 4210\n",
       "edge-mqtt.facebook.com            4191\n",
       "com.edgekey.net                   3750\n",
       "ls.apple.com                      3738\n",
       "api-global.netflix.com            3736\n",
       "data.microsoft.com                3456\n",
       "imap.gmail.com                    3440\n",
       "ichnaea.netflix.com               3250\n",
       "l.doubleclick.net                 3222\n",
       "clients4.google.com               3215\n",
       "mtalk.google.com                  3196\n",
       "s3.amazonaws.com                  3175\n",
       "play.googleapis.com               2912\n",
       "g4.akamai.net                     2875\n",
       "                                  ... \n",
       "mysports.tomtom-static.com           1\n",
       "myservlink.com                       1\n",
       "mysearchresults.netdna-cdn.com       1\n",
       "myschedule.safeway.com               1\n",
       "myscarletbook.com                    1\n",
       "mys.oracle.com                       1\n",
       "myrfta.com                           1\n",
       "myrental.homeaway.com                1\n",
       "myreadingmanga.info                  1\n",
       "myportal.saddlebackcomm.com          1\n",
       "myportal.cccs.edu                    1\n",
       "mytalk-ping.jawbone.com              1\n",
       "mythpodcast.libsyn.com               1\n",
       "mytickets.tickets.com                1\n",
       "mzdlhnn.Belkin                       1\n",
       "n.lcads.ru                           1\n",
       "n.dyntrk.com                         1\n",
       "n.bodybuilding.com                   1\n",
       "n.ads2-adnow.com                     1\n",
       "mzwiso-a.akamaihd.net                1\n",
       "mzvumtsformhy                        1\n",
       "myyqiexn.mosaicint.local             1\n",
       "mytimes.indiatimes.com               1\n",
       "myxfn.xfinity.com                    1\n",
       "myweb.uiowa.edu                      1\n",
       "myvidsterblogs.tumblr.com            1\n",
       "myturbotax.intuit.com                1\n",
       "mytrendyhome.com                     1\n",
       "mytimestation.com                    1\n",
       "                                     1\n",
       "Name: ip.src, dtype: int64"
      ]
     },
     "execution_count": 42,
     "metadata": {},
     "output_type": "execute_result"
    }
   ],
   "source": [
    "domain_home_count[ domain_home_count < 10000 ]"
   ]
  },
  {
   "cell_type": "code",
   "execution_count": null,
   "metadata": {
    "collapsed": true
   },
   "outputs": [],
   "source": []
  }
 ],
 "metadata": {
  "kernelspec": {
   "display_name": "Python 2",
   "language": "python",
   "name": "python2"
  },
  "language_info": {
   "codemirror_mode": {
    "name": "ipython",
    "version": 2
   },
   "file_extension": ".py",
   "mimetype": "text/x-python",
   "name": "python",
   "nbconvert_exporter": "python",
   "pygments_lexer": "ipython2",
   "version": "2.7.10"
  }
 },
 "nbformat": 4,
 "nbformat_minor": 0
}
